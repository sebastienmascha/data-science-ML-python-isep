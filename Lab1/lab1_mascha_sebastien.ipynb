{
 "cells": [
  {
   "cell_type": "markdown",
   "metadata": {},
   "source": [
    "# Lab 1 - Data Analysis\n",
    "### M. Sébastien MASCHA\n",
    "### ISEP Paris - 17 Septembre 2019\n",
    "<br/>\n",
    "<br/>"
   ]
  },
  {
   "cell_type": "markdown",
   "metadata": {},
   "source": [
    "___"
   ]
  },
  {
   "cell_type": "markdown",
   "metadata": {},
   "source": [
    "# Importations"
   ]
  },
  {
   "cell_type": "code",
   "execution_count": 191,
   "metadata": {},
   "outputs": [],
   "source": [
    "import math\n",
    "import numpy as np\n",
    "import pandas as pd\n",
    "from scipy import stats\n",
    "from matplotlib import pyplot as plt"
   ]
  },
  {
   "cell_type": "markdown",
   "metadata": {},
   "source": [
    "# Partie A - Series discrete"
   ]
  },
  {
   "cell_type": "markdown",
   "metadata": {},
   "source": [
    "#### Question 1 - Générez un vecteur contenant 1000 valeurs aléatoires incluses entre 0 et 10 :"
   ]
  },
  {
   "cell_type": "code",
   "execution_count": 202,
   "metadata": {},
   "outputs": [],
   "source": [
    "A = np.random.randint(0,10,1000)"
   ]
  },
  {
   "cell_type": "markdown",
   "metadata": {},
   "source": [
    "#### Question 2 - Affchez ces données sous forme d'un histogramme en utilisant la fonction hist(·) de la librairie matplotlib."
   ]
  },
  {
   "cell_type": "code",
   "execution_count": 206,
   "metadata": {},
   "outputs": [
    {
     "data": {
      "image/png": "[encoded data removed]",
      "text/plain": [
       "<Figure size 432x288 with 1 Axes>"
      ]
     },
     "metadata": {},
     "output_type": "display_data"
    }
   ],
   "source": [
    "hist = plt.hist(A, bins = range(11), edgecolor='#E6E6E6', color='#EE6666')\n",
    "plt.title(\"Répartition des nombre du vecteur A\")\n",
    "plt.xlabel(\"Valeur\")\n",
    "plt.ylabel(\"Nombre d'apparition\")\n",
    "plt.xticks(range(-2, 12), )\n",
    "plt.show()"
   ]
  },
  {
   "cell_type": "markdown",
   "metadata": {},
   "source": [
    "#### Questions 3 à 5 - Déterminez le mode, la moyenne et la médiane de ces données sans utiliser les fonctions Python predefnies."
   ]
  },
  {
   "cell_type": "markdown",
   "metadata": {},
   "source": [
    "La mode de A est :"
   ]
  },
  {
   "cell_type": "code",
   "execution_count": 207,
   "metadata": {},
   "outputs": [
    {
     "name": "stdout",
     "output_type": "stream",
     "text": [
      "Mode =  [1]\n",
      "Mode avec fonction =  ModeResult(mode=array([1]), count=array([113]))\n"
     ]
    }
   ],
   "source": [
    "\n",
    "# def mode_list (list: []) :\n",
    "#     if list == [] :\n",
    "#         return \"Invalid liste\"\n",
    "#     list_sorted = np.sort(A)\n",
    "#     list_grouped = [[list_sorted[0]]]\n",
    "#     for i in range(len(list_sorted)):\n",
    "#         if list_sorted[i] == list_grouped[-1][0] :\n",
    "#             list_grouped[-1][0].append(list_sorted[i])\n",
    "#         else : \n",
    "#             list_grouped.append([list_sorted[i]])\n",
    "#     mode = []\n",
    "#     mode_number = 0\n",
    "#     for i in range(list_grouped) :\n",
    "#         if len(list_grouped[i]) >= mode_number :\n",
    "#             if len(list_grouped[i]) == mode_number :\n",
    "#                 mode.append(list_grouped[i])\n",
    "#             else :\n",
    "#                 mode = list_grouped[i]\n",
    "#                 mode_number = len(list_grouped[i])\n",
    "\n",
    "#     if len(mode) == 1:\n",
    "#         return \"Mode = \" + str(mode)\n",
    "#     else:\n",
    "#         return \"Modes = \" + str(mode)\n",
    "# print(mode_list(A))\n",
    "\n",
    "\n",
    "max = 0\n",
    "index = 0\n",
    "k = 0\n",
    "list_of_mod = []\n",
    "for i in range(0, len(hist[0])):\n",
    "    if hist[0][i] > max:\n",
    "        max = hist[0][i]\n",
    "        index = i\n",
    "list_of_mod.append(index)\n",
    "\n",
    "counter = 0\n",
    "for j in range(0, len(hist[0])):\n",
    "    if j != index:\n",
    "        if hist[0][i] > counter:\n",
    "            counter = hist[0][i]\n",
    "            if counter == i:\n",
    "                list_of_mod.append(counter)\n",
    "\n",
    "if len(list_of_mod) == 1:\n",
    "    print(\"Mode = \", list_of_mod)\n",
    "else:\n",
    "    print(\"Modes = \", list_of_mod)\n",
    "\n",
    "print(\"Mode avec fonction = \", stats.mode(A))"
   ]
  },
  {
   "cell_type": "markdown",
   "metadata": {},
   "source": [
    "La moyenne et mediane de A est :"
   ]
  },
  {
   "cell_type": "code",
   "execution_count": 195,
   "metadata": {},
   "outputs": [
    {
     "name": "stdout",
     "output_type": "stream",
     "text": [
      "Moyenne =  4.445\n",
      "Moyenne with numpy library =  4.445\n",
      "Median =  4.0\n",
      "Mediane with numpy library 4.0\n",
      "\n",
      "Question 5 :\n",
      "On remarque que la mediane s'écarte de la moyenne d'autant plus que le jeu de données est grand.\n"
     ]
    }
   ],
   "source": [
    "#Moyenne\n",
    "\n",
    "moyenne = sum(A)/len(A)\n",
    "print('Moyenne = ', moyenne)\n",
    "print('Moyenne with numpy library = ', np.mean(A))\n",
    "\n",
    "\n",
    "#Median\n",
    "A = sorted(A)\n",
    "\n",
    "if (len(A)%2 == 1):\n",
    "    median = A[math.floor((len(A)/2))]\n",
    "else:\n",
    "    median = (A[int(len(A)/2-1)]+A[int(len(A)/2)])*0.5\n",
    "\n",
    "print('Median = ', median)\n",
    "print('Mediane with numpy library', np.median(A))\n",
    "\n",
    "print(\"\\nQuestion 5 :\")\n",
    "print(\"On remarque que la mediane s'écarte de la moyenne d'autant plus que le jeu de données est grand.\")"
   ]
  },
  {
   "cell_type": "markdown",
   "metadata": {},
   "source": [
    "#### Question 6 - Calculez le domaine de définition, l'écart-type et la variance de ces données"
   ]
  },
  {
   "cell_type": "code",
   "execution_count": 196,
   "metadata": {},
   "outputs": [
    {
     "name": "stdout",
     "output_type": "stream",
     "text": [
      "Domaine de définition = [ 0 , 9 ]\n",
      "Domaine de définition = [ 0 , 9 ]\n",
      "Ecart Type =  2.8737130989366317\n",
      "Ecart Type with numpy library =  2.877320802413245\n",
      "La variance est de  8.25822697499998\n",
      "Variance with numpy library  8.278974999999999\n",
      "\n",
      "Le domaine de définition sera toujours le même, il est unique.\n",
      "Pour l'ecart type et la variance les valeurs peuvent changer en fonction de la méthode de calcul utilisée par les fonctions pré-définies.\n"
     ]
    }
   ],
   "source": [
    "\n",
    "#Domaine de définition\n",
    "print('Domaine de définition = [', A[0],',', A[-1],']')\n",
    "print('Domaine de définition = [', min(A), ',', min(A)+np.ptp(A), ']')\n",
    "\n",
    "#Ecart-type\n",
    "\n",
    "ecart_type = 0\n",
    "for i in range (0, len(A)-1):\n",
    "    ecart_type += (A[i]-np.mean(A))**2\n",
    "ecart_type = math.sqrt(1/len(A)*ecart_type)\n",
    "\n",
    "print('Ecart Type = ', ecart_type)\n",
    "print('Ecart Type with numpy library = ', np.std(A))\n",
    "\n",
    "#Variance\n",
    "\n",
    "print('La variance est de ', ecart_type**2)\n",
    "print('Variance with numpy library ', np.var(A))\n",
    "\n",
    "print(\"\\nLe domaine de définition sera toujours le même, il est unique.\")\n",
    "print(\"Pour l'ecart type et la variance les valeurs peuvent changer en fonction de la méthode de calcul utilisée par les fonctions pré-définies.\")"
   ]
  },
  {
   "cell_type": "markdown",
   "metadata": {},
   "source": [
    "# Partie B - Séries discrètes par fréquence\n",
    "#### Question 1 - Créez le jeu de données correspondant et représentez le sous forme d'un histogramme."
   ]
  },
  {
   "cell_type": "code",
   "execution_count": 197,
   "metadata": {},
   "outputs": [],
   "source": [
    "marks = [5, 8, 9, 10, 11, 12, 13, 14, 16]\n",
    "numbers = [10, 12, 48, 23, 24, 48, 9, 7, 13]\n",
    "\n",
    "data = [numbers, marks]"
   ]
  },
  {
   "cell_type": "code",
   "execution_count": 198,
   "metadata": {},
   "outputs": [
    {
     "data": {
      "image/png": "[encoded data removed]",
      "text/plain": [
       "<Figure size 432x288 with 1 Axes>"
      ]
     },
     "metadata": {},
     "output_type": "display_data"
    }
   ],
   "source": [
    "list_with_weights = []\n",
    "for i in range(len(marks)) :\n",
    "    for j in range(numbers[i]) :\n",
    "        list_with_weights.append(marks[i])\n",
    "\n",
    "marks_hist = plt.hist(list_with_weights, edgecolor='#E6E6E6', color='#EE6666')\n",
    "plt.title(\"Répartition des nombre du vecteur A\")\n",
    "plt.xlabel(\"Note sur 20\")\n",
    "plt.ylabel(\"Nombre d'élèves\")\n",
    "plt.xticks(range(0, 20), )\n",
    "plt.show()"
   ]
  },
  {
   "cell_type": "code",
   "execution_count": 199,
   "metadata": {},
   "outputs": [
    {
     "name": "stdout",
     "output_type": "stream",
     "text": [
      "Mode =  [9, 12]\n",
      "Moyenne =  10.675257731958762\n",
      "Mediane =  11.0\n",
      "Variance =  5.848150706770114\n",
      "Ecart-Type =  2.4182949999473005\n"
     ]
    }
   ],
   "source": [
    "index = []\n",
    "for i in range (0, len(numbers)-1):\n",
    "    if numbers[i] == np.max(numbers):\n",
    "        index.append(marks[i])\n",
    "\n",
    "\n",
    "print('Mode = ', index)\n",
    "print('Moyenne = ', np.mean(list_with_weights))\n",
    "print('Mediane = ', np.median(list_with_weights))\n",
    "print('Variance = ', np.var(list_with_weights))\n",
    "print('Ecart-Type = ', np.std(list_with_weights))"
   ]
  },
  {
   "cell_type": "markdown",
   "metadata": {},
   "source": [
    "# Partie c - Distribution gaussiennes"
   ]
  },
  {
   "cell_type": "markdown",
   "metadata": {},
   "source": [
    "#### Question 1 -  Affichez la densité de probabilité de cette distribution"
   ]
  },
  {
   "cell_type": "code",
   "execution_count": 200,
   "metadata": {},
   "outputs": [
    {
     "data": {
      "image/png": "[encoded data removed]",
      "text/plain": [
       "<Figure size 432x288 with 1 Axes>"
      ]
     },
     "metadata": {},
     "output_type": "display_data"
    }
   ],
   "source": [
    "sigma_human_iq = np.sqrt(225)\n",
    "mean = 100\n",
    "\n",
    "p = (1 / sigma_human_iq * np.sqrt(2*math.pi)) * math.exp(-(0-mean)**2 / 2 * sigma_human_iq)\n",
    "result = []\n",
    "for i in range (50, 150):\n",
    "    result.append(1/sigma_human_iq*np.sqrt(2*(math.pi))*math.exp(-((i-mean)**2)/2*sigma_human_iq))\n",
    "plt.semilogy(result)\n",
    "plt.title('Courbe représentant le QI humain')\n",
    "plt.show()"
   ]
  },
  {
   "cell_type": "markdown",
   "metadata": {},
   "source": [
    "#### Question 2 - Générez un échantillon de taille 100.000 suivant cette loi et affichez l'histogramme correspondant."
   ]
  },
  {
   "cell_type": "code",
   "execution_count": 201,
   "metadata": {},
   "outputs": [
    {
     "name": "stdout",
     "output_type": "stream",
     "text": [
      "Moyenne =  100.0519926349823\n",
      "Variance =  225.6182246237175\n",
      "Pourcentage de QI < 60 =  0.00372\n",
      "Pourcentage de QI > 130 =  0.02342\n",
      "Intervalle de confiance a 95 pourcent = [ 70.6 , 129.4 ]\n"
     ]
    }
   ],
   "source": [
    "data = np.random.normal(100, np.sqrt(225), 100000)\n",
    "print(\"Moyenne = \", np.mean(data))\n",
    "print(\"Variance = \", np.var(data))\n",
    "\n",
    "minus_sixty = 0\n",
    "over_130 = 0\n",
    "for i in range (0, len(data)-1):\n",
    "    if data[i] < 60:\n",
    "        minus_sixty+=1\n",
    "    if data[i] > 130:\n",
    "        over_130+=1\n",
    "\n",
    "print(\"Pourcentage de QI < 60 = \", minus_sixty/len(data))\n",
    "print(\"Pourcentage de QI > 130 = \", over_130/len(data))\n",
    "\n",
    "print(\"Intervalle de confiance a 95 pourcent = [\", mean-1.96*sigma_human_iq, ',', mean+1.96*sigma_human_iq, ']')"
   ]
  },
  {
   "cell_type": "markdown",
   "metadata": {},
   "source": [
    "# Partie D - Analyse de QI"
   ]
  },
  {
   "cell_type": "code",
   "execution_count": 216,
   "metadata": {},
   "outputs": [
    {
     "name": "stdout",
     "output_type": "stream",
     "text": [
      "Moyenne dataset1 =  106.38995046854124\n",
      "Ecart-type dataset1 =  12.357140983791982\n",
      "95% Confident Interval dataset1 = [ 82.16995414030896 , 130.60994679677353 ]\n",
      "\n",
      "Moyenne dataset2 =  99.67416339668492\n",
      "Ecart-type dataset2 =  15.7451052135866\n",
      "95% Confident Interval dataset2= [ 68.81375717805518 , 130.53456961531464 ]\n",
      "\n",
      "Moyenne dataset3 =  99.96285408886784\n",
      "Ecart-type dataset3 =  14.984193617480768\n",
      "95% Confident Interval dataset3= [ 70.59383459860554 , 129.33187357913016 ]\n",
      "\n",
      "<class 'pandas.core.series.Series'>\n",
      "Moyenne malnutrition.csv =  87.96969696969697\n",
      "Écart type malnutrition.csv =  9.67706290011691\n",
      "95% Confident Interval malnutrition = [ 69.00265368546783 , 106.9367402539261 ]\n",
      "\n"
     ]
    }
   ],
   "source": [
    "\n",
    "data_10_size = np.random.normal(100, 15, 10)\n",
    "data_1000_size = np.random.normal(100, 15, 1000)\n",
    "data_100000_size = np.random.normal(100, 15, 100000)\n",
    "\n",
    "#TODO : faire les estimations de la moyenne et de l'écart type\n",
    "\n",
    "\n",
    "##DataSet1\n",
    "print(\"Moyenne dataset1 = \", np.mean(dataset1))\n",
    "print(\"Ecart-type dataset1 = \", np.std(dataset1))\n",
    "print(\"95% Confident Interval dataset1 = [\", np.mean(dataset1)-1.96*np.std(dataset1), ',', np.mean(dataset1)+1.96*np.std(dataset1), ']\\n')\n",
    "##DataSet2\n",
    "print(\"Moyenne dataset2 = \", np.mean(dataset2))\n",
    "print(\"Ecart-type dataset2 = \", np.std(dataset2))\n",
    "print(\"95% Confident Interval dataset2= [\", np.mean(dataset2)-1.96*np.std(dataset2), ',', np.mean(dataset2)+1.96*np.std(dataset2), ']\\n')\n",
    "##DataSet3\n",
    "print(\"Moyenne dataset3 = \", np.mean(dataset3))\n",
    "print(\"Ecart-type dataset3 = \", np.std(dataset3))\n",
    "print(\"95% Confident Interval dataset3= [\", np.mean(dataset3)-1.96*np.std(dataset3), ',', np.mean(dataset3)+1.96*np.std(dataset3), ']\\n')\n",
    "\n",
    "  \n",
    "malnutrition_data = pd.read_csv('malnutrition.csv')\n",
    "       \n",
    "data_malnutrition = [97]\n",
    "for l in range (0, len(malnutrition)-1):\n",
    "    data_malnutrition.append(malnutrition['97'][l])\n",
    "\n",
    "print(type(np.mean(malnutrition)))\n",
    "print(\"Moyenne malnutrition.csv = \", np.mean(data_malnutrition))\n",
    "print(\"Écart type malnutrition.csv = \", np.std(data_malnutrition))\n",
    "print(\"95% Confident Interval malnutrition = [\", np.mean(data_malnutrition)-1.96*np.std(data_malnutrition), ',', np.mean(data_malnutrition)+1.96*np.std(data_malnutrition), ']\\n')\n",
    "\n",
    "\n"
   ]
  },
  {
   "cell_type": "code",
   "execution_count": null,
   "metadata": {},
   "outputs": [],
   "source": []
  }
 ],
 "metadata": {
  "kernelspec": {
   "display_name": "Python 3",
   "language": "python",
   "name": "python3"
  },
  "language_info": {
   "codemirror_mode": {
    "name": "ipython",
    "version": 3
   },
   "file_extension": ".py",
   "mimetype": "text/x-python",
   "name": "python",
   "nbconvert_exporter": "python",
   "pygments_lexer": "ipython3",
   "version": "3.7.3"
  }
 },
 "nbformat": 4,
 "nbformat_minor": 4
}
