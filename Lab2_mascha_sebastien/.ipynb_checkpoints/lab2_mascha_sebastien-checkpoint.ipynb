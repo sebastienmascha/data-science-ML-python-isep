{
 "cells": [
  {
   "cell_type": "markdown",
   "metadata": {},
   "source": [
    "# Data Analysis - Lab 2\n",
    "### M. Sébastien MASCHA\n",
    "### ISEP Paris – September 24th, 2019\n",
    "<br/>\n",
    "<br/>\n",
    "\n",
    "___\n",
    "# Import of libraries\n",
    "\n",
    "This document has been done using python on Jupyter Notebook with the librairies:\n",
    " \n",
    "- Numpy to manipulate arrays\n",
    "- matplotlib to plot graphics\n",
    "- pandas to import csv\n",
    "- scipy for mathematicals usage\n",
    "- maths for sqrt, pi, exp"
   ]
  },
  {
   "cell_type": "code",
   "execution_count": 2,
   "metadata": {},
   "outputs": [],
   "source": [
    "# coding: utf-8\n",
    "    \n",
    "import matplotlib as plt\n",
    "import numpy as np\n",
    "import matplotlib.pyplot as plt\n",
    "import pandas as pd\n",
    "from scipy import stats\n",
    "from math import sqrt,pi,exp"
   ]
  },
  {
   "cell_type": "markdown",
   "metadata": {},
   "source": [
    "<br/>\n",
    "<br/>\n",
    "\n",
    "___\n",
    "# Exercice A - Multivariate data set : Fisher Iris\n",
    "In this exercice, we study the Iris data set.\n",
    "#### Question 1 - Open iris.csv as a matrice"
   ]
  },
  {
   "cell_type": "markdown",
   "metadata": {},
   "source": [
    "We use the comma separator because we saw in the text editor that the data was separated\n",
    "by commas."
   ]
  },
  {
   "cell_type": "code",
   "execution_count": 14,
   "metadata": {},
   "outputs": [
    {
     "name": "stdout",
     "output_type": "stream",
     "text": [
      "(150, 4)\n"
     ]
    }
   ],
   "source": [
    "dataframe = pd.read_csv(\"iris.csv\")\n",
    "print(dataframe.shape)\n",
    "\n",
    "data.head()"
   ]
  },
  {
   "cell_type": "code",
   "execution_count": null,
   "metadata": {},
   "outputs": [],
   "source": [
    "data.hist()"
   ]
  },
  {
   "cell_type": "code",
   "execution_count": null,
   "metadata": {},
   "outputs": [],
   "source": [
    "data.index"
   ]
  },
  {
   "cell_type": "code",
   "execution_count": null,
   "metadata": {},
   "outputs": [],
   "source": [
    "data.info()"
   ]
  },
  {
   "cell_type": "code",
   "execution_count": null,
   "metadata": {},
   "outputs": [],
   "source": [
    "melted_data = pd.melt(data, value_vars=['Class'], \n",
    "                      var_name='Class', value_name='type')"
   ]
  },
  {
   "cell_type": "code",
   "execution_count": null,
   "metadata": {},
   "outputs": [],
   "source": [
    "melted_data.groupby(by=['Class', 'type'])['type'].count()"
   ]
  },
  {
   "cell_type": "code",
   "execution_count": null,
   "metadata": {},
   "outputs": [],
   "source": [
    "matrix = data.values"
   ]
  },
  {
   "cell_type": "code",
   "execution_count": null,
   "metadata": {},
   "outputs": [],
   "source": [
    "covMatrix = np.zeros((3, 1))\n",
    "sdMatrix = np.zeros(( 3, 1))\n",
    "corrMatrix = np.zeros((3, 1))"
   ]
  },
  {
   "cell_type": "code",
   "execution_count": null,
   "metadata": {},
   "outputs": [],
   "source": [
    "yMean = np.mean(data.values)\n",
    "ySd = np.sd(data.values)"
   ]
  },
  {
   "cell_type": "code",
   "execution_count": null,
   "metadata": {},
   "outputs": [],
   "source": [
    "for i in data.values :\n",
    "  attributeMean = np.mean(data.values[:i])\n",
    "  meanRegVect = data.values[:i] - attributeMean\n",
    "  meanRegY = data.values[:3] - yMean\n",
    "  covMatrix[i] = 1/(np.size(data.values)[1] - 1) * sum(meanRegVect * meanRegY)\n",
    "  sdMatrix[i] = sd(dataset[:i]) \n",
    "\n"
   ]
  },
  {
   "cell_type": "code",
   "execution_count": null,
   "metadata": {},
   "outputs": [],
   "source": [
    "corrMatrix = covMatrix/(sdMatrix * ySd)"
   ]
  },
  {
   "cell_type": "code",
   "execution_count": null,
   "metadata": {},
   "outputs": [],
   "source": [
    "data.cov()"
   ]
  },
  {
   "cell_type": "code",
   "execution_count": null,
   "metadata": {},
   "outputs": [],
   "source": [
    "data.corr()"
   ]
  },
  {
   "cell_type": "code",
   "execution_count": null,
   "metadata": {},
   "outputs": [],
   "source": [
    "corrMatrix = pd.scatter_matrix(data)\n",
    "plt.show()"
   ]
  },
  {
   "cell_type": "code",
   "execution_count": null,
   "metadata": {},
   "outputs": [],
   "source": [
    "Z = (np.log(1 + corrMatrix) - np.log(1 - corrMatrix))/2\n",
    "sz = sqrt(1/(dim(dataset)[1] - 3))\n",
    "Zinf = Z - 1.96*sz\n",
    "Zsup = Z + 1.96*sz"
   ]
  },
  {
   "cell_type": "code",
   "execution_count": null,
   "metadata": {},
   "outputs": [],
   "source": []
  },
  {
   "cell_type": "markdown",
   "metadata": {},
   "source": [
    "<br/>\n",
    "<br/>\n",
    "\n",
    "___\n",
    "# Exercice B - Multivariate data set : Anthropometric data\n",
    "In this exercice, we study the ”mansize” data set. These data described anthropo- metric features acquired in a famous medicine University based on a population of Bachelor students.\n",
    "#### Question 1 - Open mansize.csv as a matrice"
   ]
  },
  {
   "cell_type": "markdown",
   "metadata": {},
   "source": [
    "We use the semicolon separator because we saw in the text editor that the data was separated\n",
    "by semicolon."
   ]
  },
  {
   "cell_type": "code",
   "execution_count": 15,
   "metadata": {},
   "outputs": [
    {
     "name": "stdout",
     "output_type": "stream",
     "text": [
      "(161, 9)\n"
     ]
    }
   ],
   "source": [
    "dataframe = pd.read_csv(\"mansize.csv\", sep=';')\n",
    "print(dataframe.shape)"
   ]
  },
  {
   "cell_type": "code",
   "execution_count": 30,
   "metadata": {},
   "outputs": [
    {
     "name": "stdout",
     "output_type": "stream",
     "text": [
      "              Age  Height (cm)  Weight (kg)  Femur Length (cm)  \\\n",
      "count  161.000000   161.000000   161.000000         161.000000   \n",
      "mean    20.447205   173.223602    73.357143          47.516149   \n",
      "std      1.676681    12.346546    14.160746           5.210949   \n",
      "min     18.000000   150.000000    40.000000          37.100000   \n",
      "25%     19.000000   165.000000    63.100000          43.600000   \n",
      "50%     20.000000   172.000000    71.500000          47.400000   \n",
      "75%     22.000000   181.000000    81.100000          51.300000   \n",
      "max     24.000000   203.000000   115.200000          62.100000   \n",
      "\n",
      "       Feet Size (cm)  Arm span (cm)  Hand length (cm)  Cranial volume (cm3)  \\\n",
      "count      161.000000     161.000000        161.000000            161.000000   \n",
      "mean        24.967702     183.040994         18.885093           1418.105590   \n",
      "std          2.703530       8.989101          1.247258             49.010535   \n",
      "min         18.900000     159.600000         15.800000           1298.000000   \n",
      "25%         23.100000     176.300000         18.200000           1382.000000   \n",
      "50%         25.100000     181.700000         18.900000           1418.000000   \n",
      "75%         26.700000     188.900000         19.800000           1450.000000   \n",
      "max         32.200000     206.900000         22.600000           1558.000000   \n",
      "\n",
      "       Penis size (cm)  \n",
      "count       161.000000  \n",
      "mean         13.394410  \n",
      "std           1.481986  \n",
      "min           9.100000  \n",
      "25%          12.500000  \n",
      "50%          13.400000  \n",
      "75%          14.300000  \n",
      "max          18.400000  \n"
     ]
    }
   ],
   "source": [
    "print(dataframe.describe())"
   ]
  },
  {
   "cell_type": "markdown",
   "metadata": {},
   "source": [
    "Function pandas.DataFrame.describe :\n",
    "\n",
    "- Generate descriptive statistics that summarize the central tendency, dispersion and shape of a dataset’s distribution, excluding NaN values.\n",
    "\n",
    "- Analyzes both numeric and object series, as well as DataFrame column sets of mixed data types. The output will vary depending on what is provided. Refer to the notes below for more detail.\n",
    "\n",
    "About mansize.csv data ?\n",
    "\n",
    "- We observe that most of the variables have an average value close to the median and the 1st and 3rd quartiles are almost symmetrical around the mean. This means that the data set is quite homogenous and that most of these variables follow a normal distribution."
   ]
  },
  {
   "cell_type": "code",
   "execution_count": null,
   "metadata": {},
   "outputs": [],
   "source": []
  }
 ],
 "metadata": {
  "kernelspec": {
   "display_name": "Python 3",
   "language": "python",
   "name": "python3"
  },
  "language_info": {
   "codemirror_mode": {
    "name": "ipython",
    "version": 3
   },
   "file_extension": ".py",
   "mimetype": "text/x-python",
   "name": "python",
   "nbconvert_exporter": "python",
   "pygments_lexer": "ipython3",
   "version": "3.6.5"
  }
 },
 "nbformat": 4,
 "nbformat_minor": 4
}
