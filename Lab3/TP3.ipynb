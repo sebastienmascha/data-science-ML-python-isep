{
 "cells": [
  {
   "cell_type": "code",
   "execution_count": null,
   "metadata": {},
   "outputs": [],
   "source": [
    "import pandas as pd\n",
    "import matplotlib.pyplot as plt\n",
    "import numpy as np\n",
    "import seaborn as sns; sns.set()\n",
    "from math import *\n",
    "import scipy.stats as sp\n",
    "from sklearn.preprocessing import StandardScaler\n",
    "from sklearn.decomposition import PCA"
   ]
  },
  {
   "cell_type": "code",
   "execution_count": null,
   "metadata": {},
   "outputs": [],
   "source": [
    "iris = pd.read_csv('iris.csv', sep=\",\", index_col=4)\n",
    "n=iris.shape[0]\n",
    "scaler = StandardScaler()\n",
    "data = scaler.fit_transform(iris)\n",
    "iris\n"
   ]
  },
  {
   "cell_type": "code",
   "execution_count": null,
   "metadata": {},
   "outputs": [],
   "source": [
    "acp = PCA(svd_solver='full')\n",
    "\n",
    "coord = acp.fit_transform(data)\n",
    "\n",
    "fig, axes = plt.subplots(figsize=(10,10))\n",
    "axes.set_xlim(-5,5)\n",
    "axes.set_ylim(-5,5)\n",
    "\n",
    "for i in range(n) :\n",
    "    plt.scatter(iris.index[i],(coord[i,0],coord[i,1]), color=iris.index[colors])\n",
    "    \n",
    "plt.plot([-6,6],[0,0],color='silver',linestyle='-',linewidth=1)\n",
    "plt.plot([0,0],[-6,6],color='silver',linestyle='-',linewidth=1)\n",
    "\n",
    "plt.show()"
   ]
  },
  {
   "cell_type": "code",
   "execution_count": null,
   "metadata": {},
   "outputs": [],
   "source": []
  },
  {
   "cell_type": "code",
   "execution_count": null,
   "metadata": {},
   "outputs": [],
   "source": [
    "df= pd.read_csv('golub_data.csv', sep=\",\")\n",
    "df.head()"
   ]
  },
  {
   "cell_type": "code",
   "execution_count": null,
   "metadata": {},
   "outputs": [],
   "source": [
    "from sklearn.preprocessing import StandardScaler\n",
    "scaler = StandardScaler().fit_transform(df.values)\n",
    "#subset = df[df.columns[:]]\n",
    "#fitted = scaler\n",
    "#df[df.columns[:]] = fitted\n",
    "df = pd.DataFrame(scaler, index = df.index, columns = df.columns).T\n",
    "df.head()"
   ]
  },
  {
   "cell_type": "code",
   "execution_count": null,
   "metadata": {},
   "outputs": [],
   "source": []
  },
  {
   "cell_type": "code",
   "execution_count": null,
   "metadata": {},
   "outputs": [],
   "source": [
    "df2 = pd.read_csv(\"Golub_class2.csv\",sep = ',',header =None,index_col=0)\n",
    "df2.columns = ['type']\n",
    "df2.head()"
   ]
  },
  {
   "cell_type": "code",
   "execution_count": null,
   "metadata": {},
   "outputs": [],
   "source": [
    "pca = PCA(n_components=2)\n",
    "principalComponents = pca.fit_transform(df)\n",
    "principalDf = pd.DataFrame(principalComponents, columns = ['PC1','PC2'])\n",
    "finalDf = pd.merge(principalDf,df2['type'], on = df.index)\n",
    "finalDf.index = finalDf['key_0']\n",
    "del finalDf['key_0']\n",
    "types = ['AML','ALL']\n",
    "colors = ['r','g']\n",
    "finalDf"
   ]
  },
  {
   "cell_type": "code",
   "execution_count": null,
   "metadata": {},
   "outputs": [],
   "source": [
    "fig = plt.figure(figsize = (8,8))\n",
    "ax = fig.add_subplot(1,1,1) \n",
    "ax.set_xlabel('PC1', fontsize = 15)\n",
    "ax.set_ylabel('PC2', fontsize = 15)\n",
    "ax.set_title('PCA', fontsize = 20)\n",
    "\n",
    "for type,color in zip(types,colors):\n",
    "    indicesToKeep = finalDf['type'] == type\n",
    "    ax.scatter(finalDf.loc[indicesToKeep, 'PC1']\n",
    "               , finalDf.loc[indicesToKeep, 'PC2']\n",
    "               , c = color\n",
    "               , s = 50)\n",
    "ax.legend(types)\n",
    "ax.grid()"
   ]
  },
  {
   "cell_type": "code",
   "execution_count": null,
   "metadata": {},
   "outputs": [],
   "source": [
    "from sklearn.datasets import load_digits\n",
    "from sklearn.manifold import MDS\n",
    "mds = MDS(n_components=2)\n",
    "principalComponents = mds.fit_transform(df.values)\n",
    "principalDf = pd.DataFrame(principalComponents, columns = ['PC1','PC2'])\n",
    "finalDf = pd.merge(principalDf,df2['type'], on = df.index)\n",
    "finalDf.index = finalDf['key_0']\n",
    "del finalDf['key_0']\n",
    "types = ['AML','ALL']\n",
    "colors = ['r','g']\n",
    "finalDf.head()"
   ]
  },
  {
   "cell_type": "code",
   "execution_count": null,
   "metadata": {},
   "outputs": [],
   "source": [
    "fig = plt.figure(figsize = (8,8))\n",
    "ax = fig.add_subplot(1,1,1) \n",
    "ax.set_xlabel('PC1', fontsize = 15)\n",
    "ax.set_ylabel('PC2', fontsize = 15)\n",
    "ax.set_title('MDS', fontsize = 20)\n",
    "\n",
    "for type,color in zip(types,colors):\n",
    "    indicesToKeep = finalDf['type'] == type\n",
    "    ax.scatter(finalDf.loc[indicesToKeep, 'PC1']\n",
    "               , finalDf.loc[indicesToKeep, 'PC2']\n",
    "               , c = color\n",
    "               , s = 50)\n",
    "    ax.legend(types)\n",
    "    ax.grid()"
   ]
  },
  {
   "cell_type": "code",
   "execution_count": null,
   "metadata": {},
   "outputs": [],
   "source": [
    "from sklearn.manifold import LocallyLinearEmbedding\n",
    "neighbors = [3,5,8,10,12,15]\n",
    "indice=1\n",
    "for neighbour in neighbors :\n",
    "    lle = LocallyLinearEmbedding(neighbour,n_components=2)\n",
    "    principalComponents = lle.fit_transform(df.values)\n",
    "    principalDf = pd.DataFrame(principalComponents, columns = ['PC1','PC2'])\n",
    "    finalDf = pd.merge(principalDf,df2['type'], on = df.index)\n",
    "    finalDf.index = finalDf['key_0']\n",
    "    del finalDf['key_0']\n",
    "    types = ['AML','ALL']\n",
    "    colors = ['r','g']\n",
    "    fig = plt.figure(figsize = (12,12))\n",
    "    ax = fig.add_subplot(2,2,indice) \n",
    "    ax.set_xlabel('PC1', fontsize = 15)\n",
    "    ax.set_ylabel('PC2', fontsize = 15)\n",
    "    indice=+1\n",
    "    \n",
    "    for type,color in zip(types,colors):\n",
    "        indicesToKeep = finalDf['type'] == type\n",
    "        ax.scatter(finalDf.loc[indicesToKeep, 'PC1']\n",
    "               , finalDf.loc[indicesToKeep, 'PC2']\n",
    "               , c = color\n",
    "               , s = 50)\n",
    "    ax.legend(types)\n",
    "    ax.grid()\n",
    "finalDf.head()    "
   ]
  },
  {
   "cell_type": "code",
   "execution_count": null,
   "metadata": {},
   "outputs": [],
   "source": [
    "from sklearn.manifold import Isomap\n",
    "neighbors = [4,8,10,13,16,20]\n",
    "indice=1\n",
    "for neighbour in neighbors :\n",
    "    isomap = Isomap(neighbour, n_components=2)\n",
    "    principalComponents = isomap.fit_transform(df.values)\n",
    "    principalDf = pd.DataFrame(principalComponents, columns = ['PC1','PC2'])\n",
    "    finalDf = pd.merge(principalDf,df2['type'], on = df.index)\n",
    "    finalDf.index = finalDf['key_0']\n",
    "    del finalDf['key_0']\n",
    "    types = ['AML','ALL']\n",
    "    colors = ['r','g']\n",
    "    fig = plt.figure(figsize = (12,12))\n",
    "    ax = fig.add_subplot(2,2,indice) \n",
    "    ax.set_xlabel('PC1', fontsize = 15)\n",
    "    ax.set_ylabel('PC2', fontsize = 15)\n",
    "    indice=+1\n",
    "    \n",
    "    for type,color in zip(types,colors):\n",
    "        indicesToKeep = finalDf['type'] == type\n",
    "        ax.scatter(finalDf.loc[indicesToKeep, 'PC1']\n",
    "               , finalDf.loc[indicesToKeep, 'PC2']\n",
    "               , c = color\n",
    "               , s = 50)\n",
    "    ax.legend(types)\n",
    "    ax.grid()"
   ]
  },
  {
   "cell_type": "code",
   "execution_count": null,
   "metadata": {},
   "outputs": [],
   "source": [
    "\n"
   ]
  },
  {
   "cell_type": "code",
   "execution_count": null,
   "metadata": {},
   "outputs": [],
   "source": [
    "alon = pd.read_csv('alon.csv', sep=\";\", header=0)\n",
    "alon.shape"
   ]
  },
  {
   "cell_type": "code",
   "execution_count": null,
   "metadata": {},
   "outputs": [],
   "source": [
    "from sklearn.preprocessing import StandardScaler\n",
    "scaler = StandardScaler().fit_transform(alon.values)\n",
    "#subset = df[df.columns[:]]\n",
    "#fitted = scaler\n",
    "#df[df.columns[:]] = fitted\n",
    "alon = pd.DataFrame(scaler, index = alon.index, columns = alon.columns)\n",
    "alon.head()"
   ]
  },
  {
   "cell_type": "code",
   "execution_count": null,
   "metadata": {},
   "outputs": [],
   "source": [
    "alon_class = pd.read_csv(\"alon_class.csv\",sep = ';')\n",
    "alon_class.columns = ['type']\n",
    "alon_class.shape"
   ]
  },
  {
   "cell_type": "code",
   "execution_count": null,
   "metadata": {},
   "outputs": [],
   "source": [
    "pca = PCA(n_components=2)\n",
    "principalComponents = pca.fit_transform(alon.values)\n",
    "principalDf = pd.DataFrame(principalComponents, columns = ['PC1','PC2'])\n",
    "finalDf = pd.merge(principalDf,alon_class['type'], on = alon.index)\n",
    "finalDf.index = finalDf['key_0']\n",
    "del finalDf['key_0']\n",
    "types = ['t','n']\n",
    "colors = ['r','g']\n",
    "finalDf"
   ]
  },
  {
   "cell_type": "code",
   "execution_count": null,
   "metadata": {},
   "outputs": [],
   "source": [
    "fig = plt.figure(figsize = (8,8))\n",
    "ax = fig.add_subplot(1,1,1) \n",
    "ax.set_xlabel('PC1', fontsize = 15)\n",
    "ax.set_ylabel('PC2', fontsize = 15)\n",
    "ax.set_title('PCA', fontsize = 20)\n",
    "\n",
    "for type,color in zip(types,colors):\n",
    "    indicesToKeep = finalDf['type'] == type\n",
    "    ax.scatter(finalDf.loc[indicesToKeep, 'PC1']\n",
    "               , finalDf.loc[indicesToKeep, 'PC2']\n",
    "               , c = color\n",
    "               , s = 50)\n",
    "ax.legend(types)\n",
    "ax.grid()"
   ]
  },
  {
   "cell_type": "code",
   "execution_count": null,
   "metadata": {},
   "outputs": [],
   "source": [
    "from sklearn.datasets import load_digits\n",
    "from sklearn.manifold import MDS\n",
    "mds = MDS(n_components=2)\n",
    "principalComponents = mds.fit_transform(alon.values)\n",
    "principalDf = pd.DataFrame(principalComponents, columns = ['PC1','PC2'])\n",
    "finalDf = pd.merge(principalDf,alon_class['type'], on = alon.index)\n",
    "finalDf.index = finalDf['key_0']\n",
    "del finalDf['key_0']\n",
    "types = ['n','t']\n",
    "colors = ['r','g']\n",
    "finalDf.head()"
   ]
  },
  {
   "cell_type": "code",
   "execution_count": null,
   "metadata": {},
   "outputs": [],
   "source": [
    "fig = plt.figure(figsize = (8,8))\n",
    "ax = fig.add_subplot(1,1,1) \n",
    "ax.set_xlabel('PC1', fontsize = 15)\n",
    "ax.set_ylabel('PC2', fontsize = 15)\n",
    "ax.set_title('MDS', fontsize = 20)\n",
    "\n",
    "for type,color in zip(types,colors):\n",
    "    indicesToKeep = finalDf['type'] == type\n",
    "    ax.scatter(finalDf.loc[indicesToKeep, 'PC1']\n",
    "               , finalDf.loc[indicesToKeep, 'PC2']\n",
    "               , c = color\n",
    "               , s = 50)\n",
    "    ax.legend(types)\n",
    "    ax.grid()"
   ]
  },
  {
   "cell_type": "code",
   "execution_count": null,
   "metadata": {},
   "outputs": [],
   "source": [
    "from sklearn.manifold import LocallyLinearEmbedding\n",
    "neighbors = [3,5,8,10,12,15]\n",
    "indice=1\n",
    "for neighbour in neighbors :\n",
    "    lle = LocallyLinearEmbedding(neighbour,n_components=2)\n",
    "    principalComponents = lle.fit_transform(alon.values)\n",
    "    principalDf = pd.DataFrame(principalComponents, columns = ['PC1','PC2'])\n",
    "    finalDf = pd.merge(principalDf,alon_class['type'], on = alon.index)\n",
    "    finalDf.index = finalDf['key_0']\n",
    "    del finalDf['key_0']\n",
    "    types = ['t','n']\n",
    "    colors = ['r','g']\n",
    "    fig = plt.figure(figsize = (12,12))\n",
    "    ax = fig.add_subplot(2,2,indice) \n",
    "    ax.set_xlabel('PC1', fontsize = 15)\n",
    "    ax.set_ylabel('PC2', fontsize = 15)\n",
    "    indice=+1\n",
    "    \n",
    "    for type,color in zip(types,colors):\n",
    "        indicesToKeep = finalDf['type'] == type\n",
    "        ax.scatter(finalDf.loc[indicesToKeep, 'PC1']\n",
    "               , finalDf.loc[indicesToKeep, 'PC2']\n",
    "               , c = color\n",
    "               , s = 50)\n",
    "    ax.legend(types)\n",
    "    ax.grid()\n",
    "finalDf.head()"
   ]
  },
  {
   "cell_type": "code",
   "execution_count": null,
   "metadata": {},
   "outputs": [],
   "source": [
    "from sklearn.manifold import Isomap\n",
    "neighbors = [4,8,10,13,16,20]\n",
    "indice=1\n",
    "for neighbour in neighbors :\n",
    "    isomap = Isomap(neighbour, n_components=2)\n",
    "    principalComponents = isomap.fit_transform(alon.values)\n",
    "    principalDf = pd.DataFrame(principalComponents, columns = ['PC1','PC2'])\n",
    "    finalDf = pd.merge(principalDf,alon_class['type'], on = alon.index)\n",
    "    finalDf.index = finalDf['key_0']\n",
    "    del finalDf['key_0']\n",
    "    types = ['t','n']\n",
    "    colors = ['r','g']\n",
    "    fig = plt.figure(figsize = (12,12))\n",
    "    ax = fig.add_subplot(2,2,indice) \n",
    "    ax.set_xlabel('PC1', fontsize = 15)\n",
    "    ax.set_ylabel('PC2', fontsize = 15)\n",
    "    indice=+1\n",
    "    \n",
    "    for type,color in zip(types,colors):\n",
    "        indicesToKeep = finalDf['type'] == type\n",
    "        ax.scatter(finalDf.loc[indicesToKeep, 'PC1']\n",
    "               , finalDf.loc[indicesToKeep, 'PC2']\n",
    "               , c = color\n",
    "               , s = 50)\n",
    "    ax.legend(types)\n",
    "    ax.grid()"
   ]
  },
  {
   "cell_type": "code",
   "execution_count": null,
   "metadata": {},
   "outputs": [],
   "source": []
  }
 ],
 "metadata": {
  "kernelspec": {
   "display_name": "Python 3",
   "language": "python",
   "name": "python3"
  },
  "language_info": {
   "codemirror_mode": {
    "name": "ipython",
    "version": 3
   },
   "file_extension": ".py",
   "mimetype": "text/x-python",
   "name": "python",
   "nbconvert_exporter": "python",
   "pygments_lexer": "ipython3",
   "version": "3.7.4"
  }
 },
 "nbformat": 4,
 "nbformat_minor": 4
}
