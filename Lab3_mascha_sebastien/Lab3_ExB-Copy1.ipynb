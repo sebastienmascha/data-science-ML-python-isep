{
 "cells": [
  {
   "cell_type": "markdown",
   "metadata": {},
   "source": [
    "# Data Analysis - Lab 3\n",
    "### M. Sébastien MASCHA & M. Sauvage Pierre\n",
    "### ISEP Paris – September 24th, 2019\n",
    "<br/>\n",
    "<br/>\n",
    "\n",
    "___\n",
    "# Import of libraries\n",
    "\n",
    "This document has been done using python on Jupyter Notebook with the librairies:\n",
    " \n",
    "- Numpy to manipulate arrays\n",
    "- matplotlib to plot graphics\n",
    "- pandas to import csv\n",
    "- scipy for mathematicals usage\n",
    "- maths for sqrt, pi, exp"
   ]
  },
  {
   "cell_type": "code",
   "execution_count": 5,
   "metadata": {},
   "outputs": [],
   "source": [
    "# coding: utf-8\n",
    "\n",
    "import data\n",
    "\n",
    "import numpy as np\n",
    "import matplotlib.pyplot as plt\n",
    "import pandas as pd\n",
    "import seaborn as sns; sns.set()\n",
    "\n",
    "from sklearn.manifold import MDS\n",
    "from sklearn.manifold import LocallyLinearEmbedding"
   ]
  },
  {
   "cell_type": "markdown",
   "metadata": {},
   "source": [
    "# Exercice B.1 - MDS, LLE and Isomap\n",
    "We are now going to study the \"golub\" data. These data contains the level of expression of 7129 genes based on 72 sample. Each sample is linked to a variant of Leukemia: AML(25) and ALL(47). Our goal is to visualize the 72 samples on a 2D plan.\n",
    "\n",
    "### Question 1 - Load the file Golub_data"
   ]
  },
  {
   "cell_type": "markdown",
   "metadata": {},
   "source": [
    "We use the semicolon separator because we saw in the text editor that the data was separated\n",
    "by semicolon."
   ]
  },
  {
   "cell_type": "code",
   "execution_count": 6,
   "metadata": {},
   "outputs": [
    {
     "data": {
      "text/html": [
       "<div>\n",
       "<style scoped>\n",
       "    .dataframe tbody tr th:only-of-type {\n",
       "        vertical-align: middle;\n",
       "    }\n",
       "\n",
       "    .dataframe tbody tr th {\n",
       "        vertical-align: top;\n",
       "    }\n",
       "\n",
       "    .dataframe thead th {\n",
       "        text-align: right;\n",
       "    }\n",
       "</style>\n",
       "<table border=\"1\" class=\"dataframe\">\n",
       "  <thead>\n",
       "    <tr style=\"text-align: right;\">\n",
       "      <th></th>\n",
       "      <th>Ex 1</th>\n",
       "      <th>Ex 2</th>\n",
       "      <th>Ex 3</th>\n",
       "      <th>Ex 4</th>\n",
       "      <th>Ex 5</th>\n",
       "      <th>Ex 6</th>\n",
       "      <th>Ex 7</th>\n",
       "      <th>Ex 8</th>\n",
       "      <th>Ex 9</th>\n",
       "      <th>Ex 10</th>\n",
       "      <th>...</th>\n",
       "      <th>Ex 63</th>\n",
       "      <th>Ex 64</th>\n",
       "      <th>Ex 65</th>\n",
       "      <th>Ex 66</th>\n",
       "      <th>Ex 67</th>\n",
       "      <th>Ex 68</th>\n",
       "      <th>Ex 69</th>\n",
       "      <th>Ex 70</th>\n",
       "      <th>Ex 71</th>\n",
       "      <th>Ex 72</th>\n",
       "    </tr>\n",
       "  </thead>\n",
       "  <tbody>\n",
       "    <tr>\n",
       "      <th>G 1</th>\n",
       "      <td>-214</td>\n",
       "      <td>-139</td>\n",
       "      <td>-76</td>\n",
       "      <td>-135</td>\n",
       "      <td>-106</td>\n",
       "      <td>-138</td>\n",
       "      <td>-72</td>\n",
       "      <td>-413</td>\n",
       "      <td>5</td>\n",
       "      <td>-88</td>\n",
       "      <td>...</td>\n",
       "      <td>-90</td>\n",
       "      <td>-137</td>\n",
       "      <td>-157</td>\n",
       "      <td>-172</td>\n",
       "      <td>-47</td>\n",
       "      <td>-62</td>\n",
       "      <td>-58</td>\n",
       "      <td>-161</td>\n",
       "      <td>-48</td>\n",
       "      <td>-176</td>\n",
       "    </tr>\n",
       "    <tr>\n",
       "      <th>G 2</th>\n",
       "      <td>-153</td>\n",
       "      <td>-73</td>\n",
       "      <td>-49</td>\n",
       "      <td>-114</td>\n",
       "      <td>-125</td>\n",
       "      <td>-85</td>\n",
       "      <td>-144</td>\n",
       "      <td>-260</td>\n",
       "      <td>-127</td>\n",
       "      <td>-105</td>\n",
       "      <td>...</td>\n",
       "      <td>-87</td>\n",
       "      <td>-51</td>\n",
       "      <td>-370</td>\n",
       "      <td>-122</td>\n",
       "      <td>-442</td>\n",
       "      <td>-198</td>\n",
       "      <td>-217</td>\n",
       "      <td>-215</td>\n",
       "      <td>-531</td>\n",
       "      <td>-284</td>\n",
       "    </tr>\n",
       "    <tr>\n",
       "      <th>G 3</th>\n",
       "      <td>-58</td>\n",
       "      <td>-1</td>\n",
       "      <td>-307</td>\n",
       "      <td>265</td>\n",
       "      <td>-76</td>\n",
       "      <td>215</td>\n",
       "      <td>238</td>\n",
       "      <td>7</td>\n",
       "      <td>106</td>\n",
       "      <td>42</td>\n",
       "      <td>...</td>\n",
       "      <td>102</td>\n",
       "      <td>-82</td>\n",
       "      <td>-77</td>\n",
       "      <td>38</td>\n",
       "      <td>-21</td>\n",
       "      <td>-5</td>\n",
       "      <td>63</td>\n",
       "      <td>-46</td>\n",
       "      <td>-124</td>\n",
       "      <td>-81</td>\n",
       "    </tr>\n",
       "    <tr>\n",
       "      <th>G 4</th>\n",
       "      <td>88</td>\n",
       "      <td>283</td>\n",
       "      <td>309</td>\n",
       "      <td>12</td>\n",
       "      <td>168</td>\n",
       "      <td>71</td>\n",
       "      <td>55</td>\n",
       "      <td>-2</td>\n",
       "      <td>268</td>\n",
       "      <td>219</td>\n",
       "      <td>...</td>\n",
       "      <td>319</td>\n",
       "      <td>178</td>\n",
       "      <td>340</td>\n",
       "      <td>31</td>\n",
       "      <td>396</td>\n",
       "      <td>141</td>\n",
       "      <td>95</td>\n",
       "      <td>146</td>\n",
       "      <td>431</td>\n",
       "      <td>9</td>\n",
       "    </tr>\n",
       "    <tr>\n",
       "      <th>G 5</th>\n",
       "      <td>-295</td>\n",
       "      <td>-264</td>\n",
       "      <td>-376</td>\n",
       "      <td>-419</td>\n",
       "      <td>-230</td>\n",
       "      <td>-272</td>\n",
       "      <td>-399</td>\n",
       "      <td>-541</td>\n",
       "      <td>-210</td>\n",
       "      <td>-178</td>\n",
       "      <td>...</td>\n",
       "      <td>-283</td>\n",
       "      <td>-135</td>\n",
       "      <td>-438</td>\n",
       "      <td>-201</td>\n",
       "      <td>-351</td>\n",
       "      <td>-256</td>\n",
       "      <td>-191</td>\n",
       "      <td>-172</td>\n",
       "      <td>-496</td>\n",
       "      <td>-294</td>\n",
       "    </tr>\n",
       "  </tbody>\n",
       "</table>\n",
       "<p>5 rows × 72 columns</p>\n",
       "</div>"
      ],
      "text/plain": [
       "     Ex 1  Ex 2  Ex 3  Ex 4  Ex 5  Ex 6  Ex 7  Ex 8  Ex 9  Ex 10  ...    \\\n",
       "G 1  -214  -139   -76  -135  -106  -138   -72  -413     5    -88  ...     \n",
       "G 2  -153   -73   -49  -114  -125   -85  -144  -260  -127   -105  ...     \n",
       "G 3   -58    -1  -307   265   -76   215   238     7   106     42  ...     \n",
       "G 4    88   283   309    12   168    71    55    -2   268    219  ...     \n",
       "G 5  -295  -264  -376  -419  -230  -272  -399  -541  -210   -178  ...     \n",
       "\n",
       "     Ex 63  Ex 64  Ex 65  Ex 66  Ex 67  Ex 68  Ex 69  Ex 70  Ex 71  Ex 72  \n",
       "G 1    -90   -137   -157   -172    -47    -62    -58   -161    -48   -176  \n",
       "G 2    -87    -51   -370   -122   -442   -198   -217   -215   -531   -284  \n",
       "G 3    102    -82    -77     38    -21     -5     63    -46   -124    -81  \n",
       "G 4    319    178    340     31    396    141     95    146    431      9  \n",
       "G 5   -283   -135   -438   -201   -351   -256   -191   -172   -496   -294  \n",
       "\n",
       "[5 rows x 72 columns]"
      ]
     },
     "execution_count": 6,
     "metadata": {},
     "output_type": "execute_result"
    }
   ],
   "source": [
    "golub_df = pd.read_csv(\"data/golub_data.csv\", sep=',')\n",
    "golub_df.head()"
   ]
  },
  {
   "cell_type": "markdown",
   "metadata": {},
   "source": [
    "### Question 2 - Open the label in the file Golub_class2. \n",
    "Once again, be very careful with the opening parameters."
   ]
  },
  {
   "cell_type": "code",
   "execution_count": 7,
   "metadata": {},
   "outputs": [
    {
     "data": {
      "text/plain": [
       "(72, 2)"
      ]
     },
     "execution_count": 7,
     "metadata": {},
     "output_type": "execute_result"
    }
   ],
   "source": [
    "golub_class = pd.read_csv(\"data/golub_class2.csv\", sep=',',header=None)\n",
    "golub_class.shape"
   ]
  },
  {
   "cell_type": "markdown",
   "metadata": {},
   "source": [
    "### Question 3 - Run a PCA on the Golub data, and visualize the result."
   ]
  },
  {
   "cell_type": "code",
   "execution_count": 8,
   "metadata": {},
   "outputs": [
    {
     "ename": "NameError",
     "evalue": "name 'PCA' is not defined",
     "output_type": "error",
     "traceback": [
      "\u001b[0;31m---------------------------------------------------------------------------\u001b[0m",
      "\u001b[0;31mNameError\u001b[0m                                 Traceback (most recent call last)",
      "\u001b[0;32m<ipython-input-8-744d7b3f7762>\u001b[0m in \u001b[0;36m<module>\u001b[0;34m()\u001b[0m\n\u001b[1;32m     35\u001b[0m     \u001b[0;32mreturn\u001b[0m \u001b[0mpc_infos\u001b[0m\u001b[0;34m,\u001b[0m \u001b[0mebouli\u001b[0m\u001b[0;34m\u001b[0m\u001b[0;34m\u001b[0m\u001b[0m\n\u001b[1;32m     36\u001b[0m \u001b[0;34m\u001b[0m\u001b[0m\n\u001b[0;32m---> 37\u001b[0;31m \u001b[0mmyPCA\u001b[0m\u001b[0;34m(\u001b[0m\u001b[0mgolub_df\u001b[0m\u001b[0;34m)\u001b[0m\u001b[0;34m\u001b[0m\u001b[0;34m\u001b[0m\u001b[0m\n\u001b[0m",
      "\u001b[0;32m<ipython-input-8-744d7b3f7762>\u001b[0m in \u001b[0;36mmyPCA\u001b[0;34m(df, clusters)\u001b[0m\n\u001b[1;32m     21\u001b[0m     \u001b[0mdf_norm\u001b[0m \u001b[0;34m=\u001b[0m \u001b[0;34m(\u001b[0m\u001b[0mdf\u001b[0m \u001b[0;34m-\u001b[0m \u001b[0mdf\u001b[0m\u001b[0;34m.\u001b[0m\u001b[0mmean\u001b[0m\u001b[0;34m(\u001b[0m\u001b[0;34m)\u001b[0m\u001b[0;34m)\u001b[0m \u001b[0;34m/\u001b[0m \u001b[0mdf\u001b[0m\u001b[0;34m.\u001b[0m\u001b[0mstd\u001b[0m\u001b[0;34m(\u001b[0m\u001b[0;34m)\u001b[0m\u001b[0;34m\u001b[0m\u001b[0;34m\u001b[0m\u001b[0m\n\u001b[1;32m     22\u001b[0m     \u001b[0;31m# PCA\u001b[0m\u001b[0;34m\u001b[0m\u001b[0;34m\u001b[0m\u001b[0;34m\u001b[0m\u001b[0m\n\u001b[0;32m---> 23\u001b[0;31m     \u001b[0mpca\u001b[0m \u001b[0;34m=\u001b[0m \u001b[0mPCA\u001b[0m\u001b[0;34m(\u001b[0m\u001b[0mn_components\u001b[0m\u001b[0;34m=\u001b[0m\u001b[0;34m'mle'\u001b[0m\u001b[0;34m)\u001b[0m\u001b[0;34m\u001b[0m\u001b[0;34m\u001b[0m\u001b[0m\n\u001b[0m\u001b[1;32m     24\u001b[0m     \u001b[0mpca_res\u001b[0m \u001b[0;34m=\u001b[0m \u001b[0mpca\u001b[0m\u001b[0;34m.\u001b[0m\u001b[0mfit_transform\u001b[0m\u001b[0;34m(\u001b[0m\u001b[0mdf_norm\u001b[0m\u001b[0;34m.\u001b[0m\u001b[0mvalues\u001b[0m\u001b[0;34m)\u001b[0m\u001b[0;34m\u001b[0m\u001b[0;34m\u001b[0m\u001b[0m\n\u001b[1;32m     25\u001b[0m     \u001b[0;31m# Ebouli\u001b[0m\u001b[0;34m\u001b[0m\u001b[0;34m\u001b[0m\u001b[0;34m\u001b[0m\u001b[0m\n",
      "\u001b[0;31mNameError\u001b[0m: name 'PCA' is not defined"
     ]
    }
   ],
   "source": [
    "def circleOfCorrelations(pc_infos, ebouli):\n",
    "    fig = plt.figure(figsize = (12,12))\n",
    "    plt.Circle((0,0),radius=10, color='g', fill=False)\n",
    "    circle1=plt.Circle((0,0),radius=1, color='g', fill=False)\n",
    "    fig = plt.gcf()\n",
    "    fig.gca().add_artist(circle1)\n",
    "    for idx in range(len(pc_infos[\"PC-0\"])):\n",
    "        x = pc_infos[\"PC-0\"][idx]\n",
    "        y = pc_infos[\"PC-1\"][idx]\n",
    "        plt.plot([0.0,x],[0.0,y],'k-')\n",
    "        plt.plot(x, y, 'rx')\n",
    "        plt.annotate(pc_infos.index[idx], xy=(x,y))\n",
    "    plt.xlabel(\"PC-0 (%s%%)\" % str(ebouli[0])[:4].lstrip(\"0.\"))\n",
    "    plt.ylabel(\"PC-1 (%s%%)\" % str(ebouli[1])[:4].lstrip(\"0.\"))\n",
    "    plt.xlim((-1,1))\n",
    "    plt.ylim((-1,1))\n",
    "    plt.title(\"Circle of Correlations\")  \n",
    "    \n",
    "def myPCA(df, clusters=None):\n",
    "    # Normalize data\n",
    "    df_norm = (df - df.mean()) / df.std()\n",
    "    # PCA\n",
    "    pca = PCA(n_components='mle')\n",
    "    pca_res = pca.fit_transform(df_norm.values)\n",
    "    # Ebouli\n",
    "    ebouli = pd.Series(pca.explained_variance_ratio_)\n",
    "    ebouli.plot(kind='bar', title=\"Ebouli des valeurs propres\")\n",
    "    plt.show()\n",
    "    # Circle of correlations\n",
    "    coef = np.transpose(pca.components_)\n",
    "    cols = ['PC-'+str(x) for x in range(len(ebouli))]\n",
    "    pc_infos = pd.DataFrame(coef, columns=cols, index=df_norm.columns)\n",
    "    circleOfCorrelations(pc_infos, ebouli)\n",
    "    plt.show()\n",
    "    return pc_infos, ebouli\n",
    "\n",
    "myPCA(golub_df)"
   ]
  },
  {
   "cell_type": "markdown",
   "metadata": {},
   "source": [
    "### Question 4 - Use the MDS function from the package MDS to run a MDS on these data. \n",
    "Compare with the PCA result and comment."
   ]
  },
  {
   "cell_type": "code",
   "execution_count": 54,
   "metadata": {},
   "outputs": [
    {
     "data": {
      "text/plain": [
       "(100, 2)"
      ]
     },
     "execution_count": 54,
     "metadata": {},
     "output_type": "execute_result"
    }
   ],
   "source": [
    "embedding = MDS()\n",
    "X_transformed = embedding.fit_transform(golub_df.values[:100])\n",
    "X_transformed.shape"
   ]
  },
  {
   "cell_type": "markdown",
   "metadata": {},
   "source": [
    "### Question 5 - Apply LLE to the Golub data, with 3, 5, 8, 10, 12 and 15 neighbors.\n",
    "Using the LocallyLinearEmbedding package from sklearn.\n",
    "\n",
    "Analyze the results and determine the best neighborhood model. Use the plt.subplot function rather than the regular plot function for this question."
   ]
  },
  {
   "cell_type": "code",
   "execution_count": 59,
   "metadata": {},
   "outputs": [
    {
     "data": {
      "text/plain": [
       "(100, 2)"
      ]
     },
     "execution_count": 59,
     "metadata": {},
     "output_type": "execute_result"
    }
   ],
   "source": [
    "embedding = LocallyLinearEmbedding()\n",
    "X_transformed = embedding.fit_transform(golub_df[:100])\n",
    "X_transformed.shape"
   ]
  },
  {
   "cell_type": "markdown",
   "metadata": {},
   "source": [
    "### Question 6 - Same question for the Isomap() function from the Isomap package.\n",
    "Use 4, 8, 10, 13, 16 and 20 neighbors instead."
   ]
  },
  {
   "cell_type": "markdown",
   "metadata": {},
   "source": [
    "# Exercice B.2 - Alon\n",
    "Load the Alon data, describe their content and apply the same algorithms as in the previous exercise.\n",
    "### Load the file alon.csv"
   ]
  },
  {
   "cell_type": "code",
   "execution_count": 70,
   "metadata": {},
   "outputs": [
    {
     "data": {
      "text/html": [
       "<div>\n",
       "<style scoped>\n",
       "    .dataframe tbody tr th:only-of-type {\n",
       "        vertical-align: middle;\n",
       "    }\n",
       "\n",
       "    .dataframe tbody tr th {\n",
       "        vertical-align: top;\n",
       "    }\n",
       "\n",
       "    .dataframe thead th {\n",
       "        text-align: right;\n",
       "    }\n",
       "</style>\n",
       "<table border=\"1\" class=\"dataframe\">\n",
       "  <thead>\n",
       "    <tr style=\"text-align: right;\">\n",
       "      <th></th>\n",
       "      <th>Hsa.3004</th>\n",
       "      <th>Hsa.13491</th>\n",
       "      <th>Hsa.13491.1</th>\n",
       "      <th>Hsa.37254</th>\n",
       "      <th>Hsa.541</th>\n",
       "      <th>Hsa.20836</th>\n",
       "      <th>Hsa.1977</th>\n",
       "      <th>Hsa.44472</th>\n",
       "      <th>Hsa.3087</th>\n",
       "      <th>Hsa.1447</th>\n",
       "      <th>...</th>\n",
       "      <th>Hsa.2618</th>\n",
       "      <th>Hsa.27285</th>\n",
       "      <th>Hsa.41260</th>\n",
       "      <th>Hsa.14822</th>\n",
       "      <th>Hsa.336</th>\n",
       "      <th>Hsa.984</th>\n",
       "      <th>Hsa.35124</th>\n",
       "      <th>Hsa.3952</th>\n",
       "      <th>Hsa.32734</th>\n",
       "      <th>Hsa.9683</th>\n",
       "    </tr>\n",
       "  </thead>\n",
       "  <tbody>\n",
       "    <tr>\n",
       "      <td>0</td>\n",
       "      <td>15.161878</td>\n",
       "      <td>9.437886</td>\n",
       "      <td>7.228324</td>\n",
       "      <td>6.864347</td>\n",
       "      <td>3.073544</td>\n",
       "      <td>9.096942</td>\n",
       "      <td>3.388666</td>\n",
       "      <td>4.495803</td>\n",
       "      <td>13.212367</td>\n",
       "      <td>7.859688</td>\n",
       "      <td>...</td>\n",
       "      <td>-0.408666</td>\n",
       "      <td>-0.466526</td>\n",
       "      <td>-0.113772</td>\n",
       "      <td>-0.335694</td>\n",
       "      <td>-0.428619</td>\n",
       "      <td>-0.517674</td>\n",
       "      <td>-0.466031</td>\n",
       "      <td>-0.451634</td>\n",
       "      <td>-0.437257</td>\n",
       "      <td>-0.537792</td>\n",
       "    </tr>\n",
       "    <tr>\n",
       "      <td>1</td>\n",
       "      <td>13.131232</td>\n",
       "      <td>9.450446</td>\n",
       "      <td>6.686033</td>\n",
       "      <td>4.931565</td>\n",
       "      <td>2.367608</td>\n",
       "      <td>7.719571</td>\n",
       "      <td>5.128649</td>\n",
       "      <td>3.539225</td>\n",
       "      <td>9.899418</td>\n",
       "      <td>6.563777</td>\n",
       "      <td>...</td>\n",
       "      <td>-0.475624</td>\n",
       "      <td>-0.527643</td>\n",
       "      <td>-0.521560</td>\n",
       "      <td>-0.439791</td>\n",
       "      <td>-0.542699</td>\n",
       "      <td>-0.538498</td>\n",
       "      <td>-0.437367</td>\n",
       "      <td>-0.385619</td>\n",
       "      <td>-0.599566</td>\n",
       "      <td>-0.641271</td>\n",
       "    </tr>\n",
       "    <tr>\n",
       "      <td>2</td>\n",
       "      <td>4.658592</td>\n",
       "      <td>8.748834</td>\n",
       "      <td>6.667209</td>\n",
       "      <td>5.803129</td>\n",
       "      <td>1.199826</td>\n",
       "      <td>1.727416</td>\n",
       "      <td>1.406442</td>\n",
       "      <td>1.597463</td>\n",
       "      <td>3.970835</td>\n",
       "      <td>3.306997</td>\n",
       "      <td>...</td>\n",
       "      <td>-0.119953</td>\n",
       "      <td>-0.209910</td>\n",
       "      <td>-0.277052</td>\n",
       "      <td>-0.065272</td>\n",
       "      <td>-0.217389</td>\n",
       "      <td>-0.025341</td>\n",
       "      <td>-0.276883</td>\n",
       "      <td>-0.262016</td>\n",
       "      <td>-0.296575</td>\n",
       "      <td>-0.297785</td>\n",
       "    </tr>\n",
       "    <tr>\n",
       "      <td>3</td>\n",
       "      <td>10.563792</td>\n",
       "      <td>13.364874</td>\n",
       "      <td>10.047634</td>\n",
       "      <td>6.530421</td>\n",
       "      <td>3.026227</td>\n",
       "      <td>3.253446</td>\n",
       "      <td>2.188840</td>\n",
       "      <td>2.514740</td>\n",
       "      <td>6.342561</td>\n",
       "      <td>8.331140</td>\n",
       "      <td>...</td>\n",
       "      <td>-0.259611</td>\n",
       "      <td>-0.456618</td>\n",
       "      <td>-0.520114</td>\n",
       "      <td>-0.205599</td>\n",
       "      <td>-0.398273</td>\n",
       "      <td>-0.410386</td>\n",
       "      <td>-0.444789</td>\n",
       "      <td>-0.455126</td>\n",
       "      <td>-0.441876</td>\n",
       "      <td>-0.502069</td>\n",
       "    </tr>\n",
       "    <tr>\n",
       "      <td>4</td>\n",
       "      <td>7.022636</td>\n",
       "      <td>8.122147</td>\n",
       "      <td>7.426341</td>\n",
       "      <td>7.575234</td>\n",
       "      <td>4.537741</td>\n",
       "      <td>6.294042</td>\n",
       "      <td>4.272008</td>\n",
       "      <td>6.355163</td>\n",
       "      <td>7.195669</td>\n",
       "      <td>6.736173</td>\n",
       "      <td>...</td>\n",
       "      <td>-0.330511</td>\n",
       "      <td>-0.448630</td>\n",
       "      <td>-0.247855</td>\n",
       "      <td>-0.483929</td>\n",
       "      <td>-0.500843</td>\n",
       "      <td>-0.100952</td>\n",
       "      <td>-0.456922</td>\n",
       "      <td>-0.493642</td>\n",
       "      <td>-0.612353</td>\n",
       "      <td>-0.554739</td>\n",
       "    </tr>\n",
       "  </tbody>\n",
       "</table>\n",
       "<p>5 rows × 2000 columns</p>\n",
       "</div>"
      ],
      "text/plain": [
       "    Hsa.3004  Hsa.13491  Hsa.13491.1  Hsa.37254   Hsa.541  Hsa.20836  \\\n",
       "0  15.161878   9.437886     7.228324   6.864347  3.073544   9.096942   \n",
       "1  13.131232   9.450446     6.686033   4.931565  2.367608   7.719571   \n",
       "2   4.658592   8.748834     6.667209   5.803129  1.199826   1.727416   \n",
       "3  10.563792  13.364874    10.047634   6.530421  3.026227   3.253446   \n",
       "4   7.022636   8.122147     7.426341   7.575234  4.537741   6.294042   \n",
       "\n",
       "   Hsa.1977  Hsa.44472   Hsa.3087  Hsa.1447  ...  Hsa.2618  Hsa.27285  \\\n",
       "0  3.388666   4.495803  13.212367  7.859688  ... -0.408666  -0.466526   \n",
       "1  5.128649   3.539225   9.899418  6.563777  ... -0.475624  -0.527643   \n",
       "2  1.406442   1.597463   3.970835  3.306997  ... -0.119953  -0.209910   \n",
       "3  2.188840   2.514740   6.342561  8.331140  ... -0.259611  -0.456618   \n",
       "4  4.272008   6.355163   7.195669  6.736173  ... -0.330511  -0.448630   \n",
       "\n",
       "   Hsa.41260  Hsa.14822   Hsa.336   Hsa.984  Hsa.35124  Hsa.3952  Hsa.32734  \\\n",
       "0  -0.113772  -0.335694 -0.428619 -0.517674  -0.466031 -0.451634  -0.437257   \n",
       "1  -0.521560  -0.439791 -0.542699 -0.538498  -0.437367 -0.385619  -0.599566   \n",
       "2  -0.277052  -0.065272 -0.217389 -0.025341  -0.276883 -0.262016  -0.296575   \n",
       "3  -0.520114  -0.205599 -0.398273 -0.410386  -0.444789 -0.455126  -0.441876   \n",
       "4  -0.247855  -0.483929 -0.500843 -0.100952  -0.456922 -0.493642  -0.612353   \n",
       "\n",
       "   Hsa.9683  \n",
       "0 -0.537792  \n",
       "1 -0.641271  \n",
       "2 -0.297785  \n",
       "3 -0.502069  \n",
       "4 -0.554739  \n",
       "\n",
       "[5 rows x 2000 columns]"
      ]
     },
     "execution_count": 70,
     "metadata": {},
     "output_type": "execute_result"
    }
   ],
   "source": [
    "alon_df = pd.read_csv(\"data/alon.csv\", sep=';')\n",
    "alon_df.head()"
   ]
  },
  {
   "cell_type": "markdown",
   "metadata": {},
   "source": [
    "### Open the label in the file alon_class. \n",
    "Once again, be very careful with the opening parameters."
   ]
  },
  {
   "cell_type": "code",
   "execution_count": 69,
   "metadata": {},
   "outputs": [
    {
     "data": {
      "text/plain": [
       "(62, 1)"
      ]
     },
     "execution_count": 69,
     "metadata": {},
     "output_type": "execute_result"
    }
   ],
   "source": [
    "# Open the class file\n",
    "alon_class = pd.read_csv(\"data/alon_class.csv\", sep=',')\n",
    "alon_class.shape"
   ]
  },
  {
   "cell_type": "markdown",
   "metadata": {},
   "source": [
    "### Run a PCA on the Alon data, and visualize the result."
   ]
  },
  {
   "cell_type": "code",
   "execution_count": null,
   "metadata": {},
   "outputs": [],
   "source": []
  },
  {
   "cell_type": "markdown",
   "metadata": {},
   "source": [
    "### Use the MDS function from the package MDS to run a MDS on these data. \n",
    "Compare with the PCA result and comment."
   ]
  },
  {
   "cell_type": "code",
   "execution_count": 60,
   "metadata": {},
   "outputs": [
    {
     "data": {
      "text/plain": [
       "(62, 2)"
      ]
     },
     "execution_count": 60,
     "metadata": {},
     "output_type": "execute_result"
    }
   ],
   "source": [
    "embedding = MDS()\n",
    "X_transformed = embedding.fit_transform(alon_df.values)\n",
    "X_transformed.shape"
   ]
  },
  {
   "cell_type": "markdown",
   "metadata": {},
   "source": [
    "### Apply LLE to the Alon data, with 3, 5, 8, 10, 12 and 15 neighbors.\n",
    "Using the LocallyLinearEmbedding package from sklearn.\n",
    "\n",
    "Analyze the results and determine the best neighborhood model. Use the plt.subplot function rather than the regular plot function for this question."
   ]
  },
  {
   "cell_type": "code",
   "execution_count": 72,
   "metadata": {},
   "outputs": [
    {
     "ename": "KeyError",
     "evalue": "'principal component 1'",
     "output_type": "error",
     "traceback": [
      "\u001b[0;31m---------------------------------------------------------------------------\u001b[0m",
      "\u001b[0;31mKeyError\u001b[0m                                  Traceback (most recent call last)",
      "\u001b[0;32m//anaconda3/lib/python3.7/site-packages/pandas/core/indexes/base.py\u001b[0m in \u001b[0;36mget_loc\u001b[0;34m(self, key, method, tolerance)\u001b[0m\n\u001b[1;32m   2896\u001b[0m             \u001b[0;32mtry\u001b[0m\u001b[0;34m:\u001b[0m\u001b[0;34m\u001b[0m\u001b[0;34m\u001b[0m\u001b[0m\n\u001b[0;32m-> 2897\u001b[0;31m                 \u001b[0;32mreturn\u001b[0m \u001b[0mself\u001b[0m\u001b[0;34m.\u001b[0m\u001b[0m_engine\u001b[0m\u001b[0;34m.\u001b[0m\u001b[0mget_loc\u001b[0m\u001b[0;34m(\u001b[0m\u001b[0mkey\u001b[0m\u001b[0;34m)\u001b[0m\u001b[0;34m\u001b[0m\u001b[0;34m\u001b[0m\u001b[0m\n\u001b[0m\u001b[1;32m   2898\u001b[0m             \u001b[0;32mexcept\u001b[0m \u001b[0mKeyError\u001b[0m\u001b[0;34m:\u001b[0m\u001b[0;34m\u001b[0m\u001b[0;34m\u001b[0m\u001b[0m\n",
      "\u001b[0;32mpandas/_libs/index.pyx\u001b[0m in \u001b[0;36mpandas._libs.index.IndexEngine.get_loc\u001b[0;34m()\u001b[0m\n",
      "\u001b[0;32mpandas/_libs/index.pyx\u001b[0m in \u001b[0;36mpandas._libs.index.IndexEngine.get_loc\u001b[0;34m()\u001b[0m\n",
      "\u001b[0;32mpandas/_libs/hashtable_class_helper.pxi\u001b[0m in \u001b[0;36mpandas._libs.hashtable.PyObjectHashTable.get_item\u001b[0;34m()\u001b[0m\n",
      "\u001b[0;32mpandas/_libs/hashtable_class_helper.pxi\u001b[0m in \u001b[0;36mpandas._libs.hashtable.PyObjectHashTable.get_item\u001b[0;34m()\u001b[0m\n",
      "\u001b[0;31mKeyError\u001b[0m: 'principal component 1'",
      "\nDuring handling of the above exception, another exception occurred:\n",
      "\u001b[0;31mKeyError\u001b[0m                                  Traceback (most recent call last)",
      "\u001b[0;32m<ipython-input-72-a954ad8f1616>\u001b[0m in \u001b[0;36m<module>\u001b[0;34m\u001b[0m\n\u001b[1;32m     13\u001b[0m \u001b[0;32mfor\u001b[0m \u001b[0mtarget\u001b[0m\u001b[0;34m,\u001b[0m \u001b[0mcolor\u001b[0m \u001b[0;32min\u001b[0m \u001b[0mzip\u001b[0m\u001b[0;34m(\u001b[0m\u001b[0mtargets\u001b[0m\u001b[0;34m,\u001b[0m\u001b[0mcolors\u001b[0m\u001b[0;34m)\u001b[0m\u001b[0;34m:\u001b[0m\u001b[0;34m\u001b[0m\u001b[0;34m\u001b[0m\u001b[0m\n\u001b[1;32m     14\u001b[0m     \u001b[0mindicesToKeep\u001b[0m \u001b[0;34m=\u001b[0m \u001b[0malon_class\u001b[0m\u001b[0;34m[\u001b[0m\u001b[0;34m'x'\u001b[0m\u001b[0;34m]\u001b[0m \u001b[0;34m==\u001b[0m \u001b[0mtarget\u001b[0m\u001b[0;34m\u001b[0m\u001b[0;34m\u001b[0m\u001b[0m\n\u001b[0;32m---> 15\u001b[0;31m     ax.scatter(alon_df.loc[indicesToKeep, 'principal component 1']\n\u001b[0m\u001b[1;32m     16\u001b[0m                \u001b[0;34m,\u001b[0m \u001b[0malon_df\u001b[0m\u001b[0;34m.\u001b[0m\u001b[0mloc\u001b[0m\u001b[0;34m[\u001b[0m\u001b[0mindicesToKeep\u001b[0m\u001b[0;34m,\u001b[0m \u001b[0;34m'principal component 2'\u001b[0m\u001b[0;34m]\u001b[0m\u001b[0;34m\u001b[0m\u001b[0;34m\u001b[0m\u001b[0m\n\u001b[1;32m     17\u001b[0m                \u001b[0;34m,\u001b[0m \u001b[0mc\u001b[0m \u001b[0;34m=\u001b[0m \u001b[0mcolor\u001b[0m\u001b[0;34m\u001b[0m\u001b[0;34m\u001b[0m\u001b[0m\n",
      "\u001b[0;32m//anaconda3/lib/python3.7/site-packages/pandas/core/indexing.py\u001b[0m in \u001b[0;36m__getitem__\u001b[0;34m(self, key)\u001b[0m\n\u001b[1;32m   1416\u001b[0m                 \u001b[0;32mexcept\u001b[0m \u001b[0;34m(\u001b[0m\u001b[0mKeyError\u001b[0m\u001b[0;34m,\u001b[0m \u001b[0mIndexError\u001b[0m\u001b[0;34m,\u001b[0m \u001b[0mAttributeError\u001b[0m\u001b[0;34m)\u001b[0m\u001b[0;34m:\u001b[0m\u001b[0;34m\u001b[0m\u001b[0;34m\u001b[0m\u001b[0m\n\u001b[1;32m   1417\u001b[0m                     \u001b[0;32mpass\u001b[0m\u001b[0;34m\u001b[0m\u001b[0;34m\u001b[0m\u001b[0m\n\u001b[0;32m-> 1418\u001b[0;31m             \u001b[0;32mreturn\u001b[0m \u001b[0mself\u001b[0m\u001b[0;34m.\u001b[0m\u001b[0m_getitem_tuple\u001b[0m\u001b[0;34m(\u001b[0m\u001b[0mkey\u001b[0m\u001b[0;34m)\u001b[0m\u001b[0;34m\u001b[0m\u001b[0;34m\u001b[0m\u001b[0m\n\u001b[0m\u001b[1;32m   1419\u001b[0m         \u001b[0;32melse\u001b[0m\u001b[0;34m:\u001b[0m\u001b[0;34m\u001b[0m\u001b[0;34m\u001b[0m\u001b[0m\n\u001b[1;32m   1420\u001b[0m             \u001b[0;31m# we by definition only have the 0th axis\u001b[0m\u001b[0;34m\u001b[0m\u001b[0;34m\u001b[0m\u001b[0;34m\u001b[0m\u001b[0m\n",
      "\u001b[0;32m//anaconda3/lib/python3.7/site-packages/pandas/core/indexing.py\u001b[0m in \u001b[0;36m_getitem_tuple\u001b[0;34m(self, tup)\u001b[0m\n\u001b[1;32m    803\u001b[0m     \u001b[0;32mdef\u001b[0m \u001b[0m_getitem_tuple\u001b[0m\u001b[0;34m(\u001b[0m\u001b[0mself\u001b[0m\u001b[0;34m,\u001b[0m \u001b[0mtup\u001b[0m\u001b[0;34m)\u001b[0m\u001b[0;34m:\u001b[0m\u001b[0;34m\u001b[0m\u001b[0;34m\u001b[0m\u001b[0m\n\u001b[1;32m    804\u001b[0m         \u001b[0;32mtry\u001b[0m\u001b[0;34m:\u001b[0m\u001b[0;34m\u001b[0m\u001b[0;34m\u001b[0m\u001b[0m\n\u001b[0;32m--> 805\u001b[0;31m             \u001b[0;32mreturn\u001b[0m \u001b[0mself\u001b[0m\u001b[0;34m.\u001b[0m\u001b[0m_getitem_lowerdim\u001b[0m\u001b[0;34m(\u001b[0m\u001b[0mtup\u001b[0m\u001b[0;34m)\u001b[0m\u001b[0;34m\u001b[0m\u001b[0;34m\u001b[0m\u001b[0m\n\u001b[0m\u001b[1;32m    806\u001b[0m         \u001b[0;32mexcept\u001b[0m \u001b[0mIndexingError\u001b[0m\u001b[0;34m:\u001b[0m\u001b[0;34m\u001b[0m\u001b[0;34m\u001b[0m\u001b[0m\n\u001b[1;32m    807\u001b[0m             \u001b[0;32mpass\u001b[0m\u001b[0;34m\u001b[0m\u001b[0;34m\u001b[0m\u001b[0m\n",
      "\u001b[0;32m//anaconda3/lib/python3.7/site-packages/pandas/core/indexing.py\u001b[0m in \u001b[0;36m_getitem_lowerdim\u001b[0;34m(self, tup)\u001b[0m\n\u001b[1;32m    927\u001b[0m         \u001b[0;32mfor\u001b[0m \u001b[0mi\u001b[0m\u001b[0;34m,\u001b[0m \u001b[0mkey\u001b[0m \u001b[0;32min\u001b[0m \u001b[0menumerate\u001b[0m\u001b[0;34m(\u001b[0m\u001b[0mtup\u001b[0m\u001b[0;34m)\u001b[0m\u001b[0;34m:\u001b[0m\u001b[0;34m\u001b[0m\u001b[0;34m\u001b[0m\u001b[0m\n\u001b[1;32m    928\u001b[0m             \u001b[0;32mif\u001b[0m \u001b[0mis_label_like\u001b[0m\u001b[0;34m(\u001b[0m\u001b[0mkey\u001b[0m\u001b[0;34m)\u001b[0m \u001b[0;32mor\u001b[0m \u001b[0misinstance\u001b[0m\u001b[0;34m(\u001b[0m\u001b[0mkey\u001b[0m\u001b[0;34m,\u001b[0m \u001b[0mtuple\u001b[0m\u001b[0;34m)\u001b[0m\u001b[0;34m:\u001b[0m\u001b[0;34m\u001b[0m\u001b[0;34m\u001b[0m\u001b[0m\n\u001b[0;32m--> 929\u001b[0;31m                 \u001b[0msection\u001b[0m \u001b[0;34m=\u001b[0m \u001b[0mself\u001b[0m\u001b[0;34m.\u001b[0m\u001b[0m_getitem_axis\u001b[0m\u001b[0;34m(\u001b[0m\u001b[0mkey\u001b[0m\u001b[0;34m,\u001b[0m \u001b[0maxis\u001b[0m\u001b[0;34m=\u001b[0m\u001b[0mi\u001b[0m\u001b[0;34m)\u001b[0m\u001b[0;34m\u001b[0m\u001b[0;34m\u001b[0m\u001b[0m\n\u001b[0m\u001b[1;32m    930\u001b[0m \u001b[0;34m\u001b[0m\u001b[0m\n\u001b[1;32m    931\u001b[0m                 \u001b[0;31m# we have yielded a scalar ?\u001b[0m\u001b[0;34m\u001b[0m\u001b[0;34m\u001b[0m\u001b[0;34m\u001b[0m\u001b[0m\n",
      "\u001b[0;32m//anaconda3/lib/python3.7/site-packages/pandas/core/indexing.py\u001b[0m in \u001b[0;36m_getitem_axis\u001b[0;34m(self, key, axis)\u001b[0m\n\u001b[1;32m   1848\u001b[0m         \u001b[0;31m# fall thru to straight lookup\u001b[0m\u001b[0;34m\u001b[0m\u001b[0;34m\u001b[0m\u001b[0;34m\u001b[0m\u001b[0m\n\u001b[1;32m   1849\u001b[0m         \u001b[0mself\u001b[0m\u001b[0;34m.\u001b[0m\u001b[0m_validate_key\u001b[0m\u001b[0;34m(\u001b[0m\u001b[0mkey\u001b[0m\u001b[0;34m,\u001b[0m \u001b[0maxis\u001b[0m\u001b[0;34m)\u001b[0m\u001b[0;34m\u001b[0m\u001b[0;34m\u001b[0m\u001b[0m\n\u001b[0;32m-> 1850\u001b[0;31m         \u001b[0;32mreturn\u001b[0m \u001b[0mself\u001b[0m\u001b[0;34m.\u001b[0m\u001b[0m_get_label\u001b[0m\u001b[0;34m(\u001b[0m\u001b[0mkey\u001b[0m\u001b[0;34m,\u001b[0m \u001b[0maxis\u001b[0m\u001b[0;34m=\u001b[0m\u001b[0maxis\u001b[0m\u001b[0;34m)\u001b[0m\u001b[0;34m\u001b[0m\u001b[0;34m\u001b[0m\u001b[0m\n\u001b[0m\u001b[1;32m   1851\u001b[0m \u001b[0;34m\u001b[0m\u001b[0m\n\u001b[1;32m   1852\u001b[0m \u001b[0;34m\u001b[0m\u001b[0m\n",
      "\u001b[0;32m//anaconda3/lib/python3.7/site-packages/pandas/core/indexing.py\u001b[0m in \u001b[0;36m_get_label\u001b[0;34m(self, label, axis)\u001b[0m\n\u001b[1;32m    158\u001b[0m             \u001b[0;32mraise\u001b[0m \u001b[0mIndexingError\u001b[0m\u001b[0;34m(\u001b[0m\u001b[0;34m\"no slices here, handle elsewhere\"\u001b[0m\u001b[0;34m)\u001b[0m\u001b[0;34m\u001b[0m\u001b[0;34m\u001b[0m\u001b[0m\n\u001b[1;32m    159\u001b[0m \u001b[0;34m\u001b[0m\u001b[0m\n\u001b[0;32m--> 160\u001b[0;31m         \u001b[0;32mreturn\u001b[0m \u001b[0mself\u001b[0m\u001b[0;34m.\u001b[0m\u001b[0mobj\u001b[0m\u001b[0;34m.\u001b[0m\u001b[0m_xs\u001b[0m\u001b[0;34m(\u001b[0m\u001b[0mlabel\u001b[0m\u001b[0;34m,\u001b[0m \u001b[0maxis\u001b[0m\u001b[0;34m=\u001b[0m\u001b[0maxis\u001b[0m\u001b[0;34m)\u001b[0m\u001b[0;34m\u001b[0m\u001b[0;34m\u001b[0m\u001b[0m\n\u001b[0m\u001b[1;32m    161\u001b[0m \u001b[0;34m\u001b[0m\u001b[0m\n\u001b[1;32m    162\u001b[0m     \u001b[0;32mdef\u001b[0m \u001b[0m_get_loc\u001b[0m\u001b[0;34m(\u001b[0m\u001b[0mself\u001b[0m\u001b[0;34m,\u001b[0m \u001b[0mkey\u001b[0m\u001b[0;34m:\u001b[0m \u001b[0mint\u001b[0m\u001b[0;34m,\u001b[0m \u001b[0maxis\u001b[0m\u001b[0;34m:\u001b[0m \u001b[0mint\u001b[0m\u001b[0;34m)\u001b[0m\u001b[0;34m:\u001b[0m\u001b[0;34m\u001b[0m\u001b[0;34m\u001b[0m\u001b[0m\n",
      "\u001b[0;32m//anaconda3/lib/python3.7/site-packages/pandas/core/generic.py\u001b[0m in \u001b[0;36mxs\u001b[0;34m(self, key, axis, level, drop_level)\u001b[0m\n\u001b[1;32m   3727\u001b[0m \u001b[0;34m\u001b[0m\u001b[0m\n\u001b[1;32m   3728\u001b[0m         \u001b[0;32mif\u001b[0m \u001b[0maxis\u001b[0m \u001b[0;34m==\u001b[0m \u001b[0;36m1\u001b[0m\u001b[0;34m:\u001b[0m\u001b[0;34m\u001b[0m\u001b[0;34m\u001b[0m\u001b[0m\n\u001b[0;32m-> 3729\u001b[0;31m             \u001b[0;32mreturn\u001b[0m \u001b[0mself\u001b[0m\u001b[0;34m[\u001b[0m\u001b[0mkey\u001b[0m\u001b[0;34m]\u001b[0m\u001b[0;34m\u001b[0m\u001b[0;34m\u001b[0m\u001b[0m\n\u001b[0m\u001b[1;32m   3730\u001b[0m \u001b[0;34m\u001b[0m\u001b[0m\n\u001b[1;32m   3731\u001b[0m         \u001b[0mself\u001b[0m\u001b[0;34m.\u001b[0m\u001b[0m_consolidate_inplace\u001b[0m\u001b[0;34m(\u001b[0m\u001b[0;34m)\u001b[0m\u001b[0;34m\u001b[0m\u001b[0;34m\u001b[0m\u001b[0m\n",
      "\u001b[0;32m//anaconda3/lib/python3.7/site-packages/pandas/core/frame.py\u001b[0m in \u001b[0;36m__getitem__\u001b[0;34m(self, key)\u001b[0m\n\u001b[1;32m   2978\u001b[0m             \u001b[0;32mif\u001b[0m \u001b[0mself\u001b[0m\u001b[0;34m.\u001b[0m\u001b[0mcolumns\u001b[0m\u001b[0;34m.\u001b[0m\u001b[0mnlevels\u001b[0m \u001b[0;34m>\u001b[0m \u001b[0;36m1\u001b[0m\u001b[0;34m:\u001b[0m\u001b[0;34m\u001b[0m\u001b[0;34m\u001b[0m\u001b[0m\n\u001b[1;32m   2979\u001b[0m                 \u001b[0;32mreturn\u001b[0m \u001b[0mself\u001b[0m\u001b[0;34m.\u001b[0m\u001b[0m_getitem_multilevel\u001b[0m\u001b[0;34m(\u001b[0m\u001b[0mkey\u001b[0m\u001b[0;34m)\u001b[0m\u001b[0;34m\u001b[0m\u001b[0;34m\u001b[0m\u001b[0m\n\u001b[0;32m-> 2980\u001b[0;31m             \u001b[0mindexer\u001b[0m \u001b[0;34m=\u001b[0m \u001b[0mself\u001b[0m\u001b[0;34m.\u001b[0m\u001b[0mcolumns\u001b[0m\u001b[0;34m.\u001b[0m\u001b[0mget_loc\u001b[0m\u001b[0;34m(\u001b[0m\u001b[0mkey\u001b[0m\u001b[0;34m)\u001b[0m\u001b[0;34m\u001b[0m\u001b[0;34m\u001b[0m\u001b[0m\n\u001b[0m\u001b[1;32m   2981\u001b[0m             \u001b[0;32mif\u001b[0m \u001b[0mis_integer\u001b[0m\u001b[0;34m(\u001b[0m\u001b[0mindexer\u001b[0m\u001b[0;34m)\u001b[0m\u001b[0;34m:\u001b[0m\u001b[0;34m\u001b[0m\u001b[0;34m\u001b[0m\u001b[0m\n\u001b[1;32m   2982\u001b[0m                 \u001b[0mindexer\u001b[0m \u001b[0;34m=\u001b[0m \u001b[0;34m[\u001b[0m\u001b[0mindexer\u001b[0m\u001b[0;34m]\u001b[0m\u001b[0;34m\u001b[0m\u001b[0;34m\u001b[0m\u001b[0m\n",
      "\u001b[0;32m//anaconda3/lib/python3.7/site-packages/pandas/core/indexes/base.py\u001b[0m in \u001b[0;36mget_loc\u001b[0;34m(self, key, method, tolerance)\u001b[0m\n\u001b[1;32m   2897\u001b[0m                 \u001b[0;32mreturn\u001b[0m \u001b[0mself\u001b[0m\u001b[0;34m.\u001b[0m\u001b[0m_engine\u001b[0m\u001b[0;34m.\u001b[0m\u001b[0mget_loc\u001b[0m\u001b[0;34m(\u001b[0m\u001b[0mkey\u001b[0m\u001b[0;34m)\u001b[0m\u001b[0;34m\u001b[0m\u001b[0;34m\u001b[0m\u001b[0m\n\u001b[1;32m   2898\u001b[0m             \u001b[0;32mexcept\u001b[0m \u001b[0mKeyError\u001b[0m\u001b[0;34m:\u001b[0m\u001b[0;34m\u001b[0m\u001b[0;34m\u001b[0m\u001b[0m\n\u001b[0;32m-> 2899\u001b[0;31m                 \u001b[0;32mreturn\u001b[0m \u001b[0mself\u001b[0m\u001b[0;34m.\u001b[0m\u001b[0m_engine\u001b[0m\u001b[0;34m.\u001b[0m\u001b[0mget_loc\u001b[0m\u001b[0;34m(\u001b[0m\u001b[0mself\u001b[0m\u001b[0;34m.\u001b[0m\u001b[0m_maybe_cast_indexer\u001b[0m\u001b[0;34m(\u001b[0m\u001b[0mkey\u001b[0m\u001b[0;34m)\u001b[0m\u001b[0;34m)\u001b[0m\u001b[0;34m\u001b[0m\u001b[0;34m\u001b[0m\u001b[0m\n\u001b[0m\u001b[1;32m   2900\u001b[0m         \u001b[0mindexer\u001b[0m \u001b[0;34m=\u001b[0m \u001b[0mself\u001b[0m\u001b[0;34m.\u001b[0m\u001b[0mget_indexer\u001b[0m\u001b[0;34m(\u001b[0m\u001b[0;34m[\u001b[0m\u001b[0mkey\u001b[0m\u001b[0;34m]\u001b[0m\u001b[0;34m,\u001b[0m \u001b[0mmethod\u001b[0m\u001b[0;34m=\u001b[0m\u001b[0mmethod\u001b[0m\u001b[0;34m,\u001b[0m \u001b[0mtolerance\u001b[0m\u001b[0;34m=\u001b[0m\u001b[0mtolerance\u001b[0m\u001b[0;34m)\u001b[0m\u001b[0;34m\u001b[0m\u001b[0;34m\u001b[0m\u001b[0m\n\u001b[1;32m   2901\u001b[0m         \u001b[0;32mif\u001b[0m \u001b[0mindexer\u001b[0m\u001b[0;34m.\u001b[0m\u001b[0mndim\u001b[0m \u001b[0;34m>\u001b[0m \u001b[0;36m1\u001b[0m \u001b[0;32mor\u001b[0m \u001b[0mindexer\u001b[0m\u001b[0;34m.\u001b[0m\u001b[0msize\u001b[0m \u001b[0;34m>\u001b[0m \u001b[0;36m1\u001b[0m\u001b[0;34m:\u001b[0m\u001b[0;34m\u001b[0m\u001b[0;34m\u001b[0m\u001b[0m\n",
      "\u001b[0;32mpandas/_libs/index.pyx\u001b[0m in \u001b[0;36mpandas._libs.index.IndexEngine.get_loc\u001b[0;34m()\u001b[0m\n",
      "\u001b[0;32mpandas/_libs/index.pyx\u001b[0m in \u001b[0;36mpandas._libs.index.IndexEngine.get_loc\u001b[0;34m()\u001b[0m\n",
      "\u001b[0;32mpandas/_libs/hashtable_class_helper.pxi\u001b[0m in \u001b[0;36mpandas._libs.hashtable.PyObjectHashTable.get_item\u001b[0;34m()\u001b[0m\n",
      "\u001b[0;32mpandas/_libs/hashtable_class_helper.pxi\u001b[0m in \u001b[0;36mpandas._libs.hashtable.PyObjectHashTable.get_item\u001b[0;34m()\u001b[0m\n",
      "\u001b[0;31mKeyError\u001b[0m: 'principal component 1'"
     ]
    },
    {
     "data": {
      "image/png": "[encoded data removed]",
      "text/plain": [
       "<Figure size 576x576 with 1 Axes>"
      ]
     },
     "metadata": {},
     "output_type": "display_data"
    }
   ],
   "source": [
    "embedding = LocallyLinearEmbedding(n_neighbors=5)\n",
    "X_transformed = embedding.fit_transform(alon_df[:100])\n",
    "X_transformed.shape\n",
    "\n",
    "fig = plt.figure(figsize = (8,8))\n",
    "ax = fig.add_subplot(1,1,1) \n",
    "ax.set_xlabel('Principal Component 1', fontsize = 15)\n",
    "ax.set_ylabel('Principal Component 2', fontsize = 15)\n",
    "ax.set_title('2 Component PCA', fontsize = 20)\n",
    "\n",
    "targets = alon_class.x.unique()\n",
    "colors = ['r', 'b']\n",
    "for target, color in zip(targets,colors):\n",
    "    indicesToKeep = alon_class['x'] == target\n",
    "    ax.scatter(alon_df.loc[indicesToKeep, 'principal component 1']\n",
    "               , alon_df.loc[indicesToKeep, 'principal component 2']\n",
    "               , c = color\n",
    "               , s = 40)\n",
    "ax.legend(targets)\n",
    "ax.grid()"
   ]
  },
  {
   "cell_type": "markdown",
   "metadata": {},
   "source": [
    "### Same question for the Isomap() function from the Isomap package.\n",
    "Use 4, 8, 10, 13, 16 and 20 neighbors instead."
   ]
  },
  {
   "cell_type": "code",
   "execution_count": null,
   "metadata": {},
   "outputs": [],
   "source": []
  }
 ],
 "metadata": {
  "kernelspec": {
   "display_name": "Python 3",
   "language": "python",
   "name": "python3"
  },
  "language_info": {
   "codemirror_mode": {
    "name": "ipython",
    "version": 3
   },
   "file_extension": ".py",
   "mimetype": "text/x-python",
   "name": "python",
   "nbconvert_exporter": "python",
   "pygments_lexer": "ipython3",
   "version": "3.6.8"
  }
 },
 "nbformat": 4,
 "nbformat_minor": 4
}
