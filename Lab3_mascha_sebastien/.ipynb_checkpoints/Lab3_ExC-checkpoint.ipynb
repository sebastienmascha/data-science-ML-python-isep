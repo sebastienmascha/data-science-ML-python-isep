{
 "cells": [
  {
   "cell_type": "markdown",
   "metadata": {},
   "source": [
    "# Data Analysis - Lab 3\n",
    "### M. Sébastien MASCHA & M. Sauvage Pierre\n",
    "### ISEP Paris – September 24th, 2019\n",
    "<br/>\n",
    "<br/>\n",
    "\n",
    "___\n",
    "# Import of libraries\n",
    "\n",
    "This document has been done using python on Jupyter Notebook with the librairies:\n",
    " \n",
    "- Numpy to manipulate arrays\n",
    "- matplotlib to plot graphics\n",
    "- pandas to import csv\n",
    "- scipy for mathematicals usage\n",
    "- maths for sqrt, pi, exp"
   ]
  },
  {
   "cell_type": "code",
   "execution_count": 1,
   "metadata": {},
   "outputs": [],
   "source": [
    "# coding: utf-8\n",
    "\n",
    "import data\n",
    "import numpy as np\n",
    "import matplotlib.pyplot as plt\n",
    "import pandas as pd\n",
    "import seaborn as sns; sns.set()\n",
    "from math import sqrt,pi,exp\n",
    "from scipy.stats.stats import pearsonr"
   ]
  },
  {
   "cell_type": "code",
   "execution_count": null,
   "metadata": {},
   "outputs": [],
   "source": []
  }
 ],
 "metadata": {
  "kernelspec": {
   "display_name": "Python 3",
   "language": "python",
   "name": "python3"
  },
  "language_info": {
   "codemirror_mode": {
    "name": "ipython",
    "version": 3
   },
   "file_extension": ".py",
   "mimetype": "text/x-python",
   "name": "python",
   "nbconvert_exporter": "python",
   "pygments_lexer": "ipython3",
   "version": "3.6.8"
  }
 },
 "nbformat": 4,
 "nbformat_minor": 4
}
