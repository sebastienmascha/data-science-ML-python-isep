{
 "cells": [
  {
   "cell_type": "markdown",
   "metadata": {},
   "source": [
    "# Data Analysis - Lab 2\n",
    "### M. Sébastien MASCHA & M. Sauvage Pierre\n",
    "### ISEP Paris – September 24th, 2019\n",
    "<br/>\n",
    "<br/>\n",
    "\n",
    "___\n",
    "# Import of libraries\n",
    "\n",
    "This document has been done using python on Jupyter Notebook with the librairies:\n",
    " \n",
    "- Numpy to manipulate arrays\n",
    "- matplotlib to plot graphics\n",
    "- pandas to import csv\n",
    "- scipy for mathematicals usage\n",
    "- maths for sqrt, pi, exp"
   ]
  },
  {
   "cell_type": "code",
   "execution_count": 2,
   "metadata": {},
   "outputs": [],
   "source": [
    "# coding: utf-8\n",
    "\n",
    "import data\n",
    "import numpy as np\n",
    "import matplotlib.pyplot as plt\n",
    "import pandas as pd\n",
    "import seaborn as sns; sns.set()\n",
    "from math import sqrt,pi,exp\n",
    "from scipy import stats"
   ]
  },
  {
   "cell_type": "markdown",
   "metadata": {},
   "source": [
    "<br/>\n",
    "<br/>\n",
    "\n",
    "___\n",
    "# Exercice C - Chi-squared test of independence and categorial variables\n",
    "In this exercice, we study the Weather data set.\n",
    "### Question 1 - Open weather.csv"
   ]
  },
  {
   "cell_type": "code",
   "execution_count": 3,
   "metadata": {},
   "outputs": [
    {
     "name": "stdout",
     "output_type": "stream",
     "text": [
      "(193, 4)\n"
     ]
    },
    {
     "data": {
      "text/html": [
       "<div>\n",
       "<style scoped>\n",
       "    .dataframe tbody tr th:only-of-type {\n",
       "        vertical-align: middle;\n",
       "    }\n",
       "\n",
       "    .dataframe tbody tr th {\n",
       "        vertical-align: top;\n",
       "    }\n",
       "\n",
       "    .dataframe thead th {\n",
       "        text-align: right;\n",
       "    }\n",
       "</style>\n",
       "<table border=\"1\" class=\"dataframe\">\n",
       "  <thead>\n",
       "    <tr style=\"text-align: right;\">\n",
       "      <th></th>\n",
       "      <th>City</th>\n",
       "      <th>Outlook</th>\n",
       "      <th>Humidity</th>\n",
       "      <th>Temperature</th>\n",
       "    </tr>\n",
       "  </thead>\n",
       "  <tbody>\n",
       "    <tr>\n",
       "      <th>0</th>\n",
       "      <td>Abidjan</td>\n",
       "      <td>Rainy</td>\n",
       "      <td>High</td>\n",
       "      <td>Hot</td>\n",
       "    </tr>\n",
       "    <tr>\n",
       "      <th>1</th>\n",
       "      <td>Addis-Abeba</td>\n",
       "      <td>Rainy</td>\n",
       "      <td>Average</td>\n",
       "      <td>Mild</td>\n",
       "    </tr>\n",
       "    <tr>\n",
       "      <th>2</th>\n",
       "      <td>Algiers</td>\n",
       "      <td>Overcast</td>\n",
       "      <td>Average</td>\n",
       "      <td>Mild</td>\n",
       "    </tr>\n",
       "    <tr>\n",
       "      <th>3</th>\n",
       "      <td>Amsterdam</td>\n",
       "      <td>Sunny</td>\n",
       "      <td>Average</td>\n",
       "      <td>Mild</td>\n",
       "    </tr>\n",
       "    <tr>\n",
       "      <th>4</th>\n",
       "      <td>Anchorage</td>\n",
       "      <td>Sunny</td>\n",
       "      <td>Average</td>\n",
       "      <td>Cold</td>\n",
       "    </tr>\n",
       "  </tbody>\n",
       "</table>\n",
       "</div>"
      ],
      "text/plain": [
       "          City   Outlook Humidity Temperature\n",
       "0      Abidjan     Rainy     High         Hot\n",
       "1  Addis-Abeba     Rainy  Average        Mild\n",
       "2      Algiers  Overcast  Average        Mild\n",
       "3    Amsterdam     Sunny  Average        Mild\n",
       "4    Anchorage     Sunny  Average        Cold"
      ]
     },
     "execution_count": 3,
     "metadata": {},
     "output_type": "execute_result"
    }
   ],
   "source": [
    "dataframe = pd.read_csv(\"data/weather.csv\",sep=';')\n",
    "print(dataframe.shape)\n",
    "\n",
    "dataframe.head()"
   ]
  },
  {
   "cell_type": "code",
   "execution_count": 4,
   "metadata": {},
   "outputs": [
    {
     "data": {
      "text/html": [
       "<div>\n",
       "<style scoped>\n",
       "    .dataframe tbody tr th:only-of-type {\n",
       "        vertical-align: middle;\n",
       "    }\n",
       "\n",
       "    .dataframe tbody tr th {\n",
       "        vertical-align: top;\n",
       "    }\n",
       "\n",
       "    .dataframe thead th {\n",
       "        text-align: right;\n",
       "    }\n",
       "</style>\n",
       "<table border=\"1\" class=\"dataframe\">\n",
       "  <thead>\n",
       "    <tr style=\"text-align: right;\">\n",
       "      <th></th>\n",
       "      <th>City</th>\n",
       "      <th>Outlook</th>\n",
       "      <th>Humidity</th>\n",
       "      <th>Temperature</th>\n",
       "    </tr>\n",
       "  </thead>\n",
       "  <tbody>\n",
       "    <tr>\n",
       "      <th>count</th>\n",
       "      <td>193</td>\n",
       "      <td>193</td>\n",
       "      <td>193</td>\n",
       "      <td>193</td>\n",
       "    </tr>\n",
       "    <tr>\n",
       "      <th>unique</th>\n",
       "      <td>193</td>\n",
       "      <td>4</td>\n",
       "      <td>3</td>\n",
       "      <td>3</td>\n",
       "    </tr>\n",
       "    <tr>\n",
       "      <th>top</th>\n",
       "      <td>Lhasa</td>\n",
       "      <td>Sunny</td>\n",
       "      <td>Average</td>\n",
       "      <td>Mild</td>\n",
       "    </tr>\n",
       "    <tr>\n",
       "      <th>freq</th>\n",
       "      <td>1</td>\n",
       "      <td>81</td>\n",
       "      <td>82</td>\n",
       "      <td>89</td>\n",
       "    </tr>\n",
       "  </tbody>\n",
       "</table>\n",
       "</div>"
      ],
      "text/plain": [
       "         City Outlook Humidity Temperature\n",
       "count     193     193      193         193\n",
       "unique    193       4        3           3\n",
       "top     Lhasa   Sunny  Average        Mild\n",
       "freq        1      81       82          89"
      ]
     },
     "execution_count": 4,
     "metadata": {},
     "output_type": "execute_result"
    }
   ],
   "source": [
    "dataframe.describe()"
   ]
  },
  {
   "cell_type": "code",
   "execution_count": 5,
   "metadata": {},
   "outputs": [
    {
     "data": {
      "image/png": "[encoded data removed]",
      "text/plain": [
       "<Figure size 864x720 with 1 Axes>"
      ]
     },
     "metadata": {
      "needs_background": "light"
     },
     "output_type": "display_data"
    },
    {
     "data": {
      "image/png": "[encoded data removed]",
      "text/plain": [
       "<Figure size 432x288 with 1 Axes>"
      ]
     },
     "metadata": {
      "needs_background": "light"
     },
     "output_type": "display_data"
    },
    {
     "data": {
      "image/png": "[encoded data removed]",
      "text/plain": [
       "<Figure size 432x288 with 1 Axes>"
      ]
     },
     "metadata": {
      "needs_background": "light"
     },
     "output_type": "display_data"
    },
    {
     "data": {
      "image/png": "[encoded data removed]",
      "text/plain": [
       "<Figure size 432x288 with 1 Axes>"
      ]
     },
     "metadata": {
      "needs_background": "light"
     },
     "output_type": "display_data"
    }
   ],
   "source": [
    "#melted_data = pd.melt(dataframe, value_vars=['Outlook'], \n",
    "                      #var_name='Outlook', value_name='state')\n",
    "#print(melted_data.groupby(by=['Outlook', 'state'])['state'].count())\n",
    "figure,axe = plt.subplots(figsize=(12,10))\n",
    "for column in dataframe :  \n",
    "    sns.countplot(dataframe[column])\n",
    "    plt.show()"
   ]
  },
  {
   "cell_type": "markdown",
   "metadata": {},
   "source": [
    "We have three categorical variables that describe the outlook, the temperature and the humidity in different cities around the world.\n",
    "\n",
    "The outlook can be : foggy, overcast, rainy or sunny.\n",
    "\n",
    "The temperature can be : cold, mild or hot.\n",
    "\n",
    "The humidity can be : low, average or high."
   ]
  },
  {
   "cell_type": "markdown",
   "metadata": {},
   "source": [
    "___\n",
    "### Question 2 - Create the contingency table between the variables “outlook” and “temperature\""
   ]
  },
  {
   "cell_type": "code",
   "execution_count": 6,
   "metadata": {},
   "outputs": [
    {
     "data": {
      "text/html": [
       "<div>\n",
       "<style scoped>\n",
       "    .dataframe tbody tr th:only-of-type {\n",
       "        vertical-align: middle;\n",
       "    }\n",
       "\n",
       "    .dataframe tbody tr th {\n",
       "        vertical-align: top;\n",
       "    }\n",
       "\n",
       "    .dataframe thead th {\n",
       "        text-align: right;\n",
       "    }\n",
       "</style>\n",
       "<table border=\"1\" class=\"dataframe\">\n",
       "  <thead>\n",
       "    <tr style=\"text-align: right;\">\n",
       "      <th>Temperature</th>\n",
       "      <th>Cold</th>\n",
       "      <th>Hot</th>\n",
       "      <th>Mild</th>\n",
       "      <th>All</th>\n",
       "    </tr>\n",
       "    <tr>\n",
       "      <th>Outlook</th>\n",
       "      <th></th>\n",
       "      <th></th>\n",
       "      <th></th>\n",
       "      <th></th>\n",
       "    </tr>\n",
       "  </thead>\n",
       "  <tbody>\n",
       "    <tr>\n",
       "      <th>Foggy</th>\n",
       "      <td>4</td>\n",
       "      <td>3</td>\n",
       "      <td>2</td>\n",
       "      <td>9</td>\n",
       "    </tr>\n",
       "    <tr>\n",
       "      <th>Overcast</th>\n",
       "      <td>19</td>\n",
       "      <td>14</td>\n",
       "      <td>36</td>\n",
       "      <td>69</td>\n",
       "    </tr>\n",
       "    <tr>\n",
       "      <th>Rainy</th>\n",
       "      <td>6</td>\n",
       "      <td>11</td>\n",
       "      <td>17</td>\n",
       "      <td>34</td>\n",
       "    </tr>\n",
       "    <tr>\n",
       "      <th>Sunny</th>\n",
       "      <td>17</td>\n",
       "      <td>30</td>\n",
       "      <td>34</td>\n",
       "      <td>81</td>\n",
       "    </tr>\n",
       "    <tr>\n",
       "      <th>All</th>\n",
       "      <td>46</td>\n",
       "      <td>58</td>\n",
       "      <td>89</td>\n",
       "      <td>193</td>\n",
       "    </tr>\n",
       "  </tbody>\n",
       "</table>\n",
       "</div>"
      ],
      "text/plain": [
       "Temperature  Cold  Hot  Mild  All\n",
       "Outlook                          \n",
       "Foggy           4    3     2    9\n",
       "Overcast       19   14    36   69\n",
       "Rainy           6   11    17   34\n",
       "Sunny          17   30    34   81\n",
       "All            46   58    89  193"
      ]
     },
     "execution_count": 6,
     "metadata": {},
     "output_type": "execute_result"
    }
   ],
   "source": [
    "pd.crosstab(dataframe['Outlook'], dataframe['Temperature'],  margins = True)"
   ]
  },
  {
   "cell_type": "markdown",
   "metadata": {},
   "source": [
    "### Comments\n",
    "\n",
    "More measures were done in situations of overcast and sunny outlooks. If the data collected is accurate, foggy days or rainy days are rare. \n",
    "Therefore we have more exhaustive data for the corresponding temperatures in these situations.\n",
    "\n",
    "The outlook data has a span of 4 and the temperature data takes 3 different values.\n",
    "\n",
    "We consider the following formula to calculate the degrees of freedom of this problem :\n",
    "\n",
    "Degrees of freedom = (r − 1)(c − 1)\n",
    "\n",
    "Degrees of freedom = (4-1)(3-1) = 6"
   ]
  },
  {
   "cell_type": "markdown",
   "metadata": {},
   "source": [
    "___\n",
    "### Question 3 - Use the command chi2 contingency(·)"
   ]
  },
  {
   "cell_type": "code",
   "execution_count": 7,
   "metadata": {},
   "outputs": [],
   "source": [
    "contingency_table_outlook_temperature = pd.crosstab(dataframe['Outlook'], dataframe['Temperature'],  margins = False) "
   ]
  },
  {
   "cell_type": "code",
   "execution_count": 8,
   "metadata": {},
   "outputs": [
    {
     "name": "stdout",
     "output_type": "stream",
     "text": [
      "This function computes the chi-square statistic and p-value for the hypothesis test of independence of the observed frequencies in the contingency table observed. \n",
      "\n"
     ]
    },
    {
     "data": {
      "text/plain": [
       "(8.493304645048728,\n",
       " 0.2041427335538749,\n",
       " 6,\n",
       " array([[ 2.14507772,  2.70466321,  4.15025907],\n",
       "        [16.44559585, 20.7357513 , 31.81865285],\n",
       "        [ 8.10362694, 10.21761658, 15.67875648],\n",
       "        [19.30569948, 24.34196891, 37.35233161]]))"
      ]
     },
     "execution_count": 8,
     "metadata": {},
     "output_type": "execute_result"
    }
   ],
   "source": [
    "print('This function computes the chi-square statistic and p-value for the hypothesis test of independence of the observed frequencies in the contingency table observed. \\n')\n",
    "stats.chi2_contingency(contingency_table_outlook_temperature)"
   ]
  },
  {
   "cell_type": "markdown",
   "metadata": {},
   "source": [
    "### Comments :\n",
    "\n",
    "Using the chi2_contingency() command we obtain the value of Chi square : X^2 = 8,493 .\n",
    "\n",
    "We also get the p-value : p = 0,2041 .\n",
    "\n",
    "As the p value is way higher than 0.05 we cannot reject the independence hypothesis between the outlook and the temperature."
   ]
  },
  {
   "cell_type": "markdown",
   "metadata": {},
   "source": [
    "___\n",
    "### Question 4 - Assess whether there is a link between the other variables \n",
    "i.e. : Outlook/humidity, temperature/humidity\n",
    "#### Dependency between the outlook and the humidity :\n",
    "At first we generate the contingency table of these two variables :"
   ]
  },
  {
   "cell_type": "code",
   "execution_count": 9,
   "metadata": {},
   "outputs": [
    {
     "name": "stdout",
     "output_type": "stream",
     "text": [
      "Humidity  Average  High  Low\n",
      "Outlook                     \n",
      "Foggy           3     6    0\n",
      "Overcast       34    30    5\n",
      "Rainy          10    24    0\n",
      "Sunny          35     9   37\n"
     ]
    }
   ],
   "source": [
    "contingency_table_outlook_humidity = pd.crosstab(dataframe['Outlook'], dataframe['Humidity'],  margins = False)\n",
    "print(contingency_table_outlook_humidity)"
   ]
  },
  {
   "cell_type": "markdown",
   "metadata": {},
   "source": [
    "Then we proceed to compute the p value and the chi square for this table using the chi2_contingency() command."
   ]
  },
  {
   "cell_type": "code",
   "execution_count": 10,
   "metadata": {},
   "outputs": [
    {
     "data": {
      "text/plain": [
       "(68.48971179065708,\n",
       " 8.339864804368143e-13,\n",
       " 6,\n",
       " array([[ 3.8238342 ,  3.21761658,  1.95854922],\n",
       "        [29.31606218, 24.66839378, 15.01554404],\n",
       "        [14.44559585, 12.15544041,  7.39896373],\n",
       "        [34.41450777, 28.95854922, 17.62694301]]))"
      ]
     },
     "execution_count": 10,
     "metadata": {},
     "output_type": "execute_result"
    }
   ],
   "source": [
    "stats.chi2_contingency(contingency_table_outlook_humidity)"
   ]
  },
  {
   "cell_type": "markdown",
   "metadata": {},
   "source": [
    "Using the chi2_contingency() command we obtain the value of Chi square : X^2 = 68,490 .\n",
    "\n",
    "We also get the p-value : p = 8,340 .\n",
    "\n",
    "As the p value is very close to zero we can reject the independence hypothesis on these two variables. It is therefore relevant to compute the value of a contingency coefficient.\n",
    "\n",
    "As the two variables do not have the same span, we chose to compute the Cramer contingency coefficient for these variables : ρ = sqrt(x^^2 * (N * min((c−1)(r−1))))\n",
    "\n",
    "We obtain Cramer's V = 0.42132306\n",
    "We cannot conclude that the two variables are dependant as almost 60% of the data’s\n",
    "contingency cannot be explained.\n"
   ]
  },
  {
   "cell_type": "markdown",
   "metadata": {},
   "source": [
    "#### Dependency between the temperature and the humidity :\n",
    "At first we generate the contingency table of these two variables :"
   ]
  },
  {
   "cell_type": "code",
   "execution_count": 13,
   "metadata": {},
   "outputs": [
    {
     "name": "stdout",
     "output_type": "stream",
     "text": [
      "Humidity     Average  High  Low\n",
      "Temperature                    \n",
      "Cold              20    22    4\n",
      "Hot               24    15   19\n",
      "Mild              38    32   19\n"
     ]
    }
   ],
   "source": [
    "contingency_table_temp_humidity = pd.crosstab(dataframe['Temperature'], dataframe['Humidity'],  margins = False)\n",
    "print(contingency_table_temp_humidity)"
   ]
  },
  {
   "cell_type": "markdown",
   "metadata": {},
   "source": [
    "Then we proceed to compute the p value and the chi square for this table using the chi2_contingency() command."
   ]
  },
  {
   "cell_type": "code",
   "execution_count": 14,
   "metadata": {},
   "outputs": [
    {
     "data": {
      "text/plain": [
       "(10.330736992441599,\n",
       " 0.03521016044258168,\n",
       " 4,\n",
       " array([[19.54404145, 16.44559585, 10.01036269],\n",
       "        [24.64248705, 20.7357513 , 12.62176166],\n",
       "        [37.8134715 , 31.81865285, 19.36787565]]))"
      ]
     },
     "execution_count": 14,
     "metadata": {},
     "output_type": "execute_result"
    }
   ],
   "source": [
    "stats.chi2_contingency(contingency_table_temp_humidity)"
   ]
  },
  {
   "cell_type": "markdown",
   "metadata": {},
   "source": [
    "Using the chi2_contingency() command we obtain the value of Chi square : X^2 = 10.331 .\n",
    "\n",
    "We also get the p-value : p = 0,0352 .\n",
    "\n",
    "As the p value is very close to zero we can reject the independence hypothesis on these two variables. It is therefore relevant to compute the value of a contingency coefficient.\n",
    "\n",
    "As the two variables have the same span, we chose to compute the Chuprov contingency coefficient for these variables : \n",
    "\n",
    "p = sqrt((x^^2)/(N*sqrt((c-1)(r-1)))\n",
    "\n",
    "We have ptemphum = 0.1635978\n",
    "\n",
    "The Chuprov coefficient is close to zero, we can therefore conclude that the two variables\n",
    "are independent."
   ]
  }
 ],
 "metadata": {
  "kernelspec": {
   "display_name": "Python 3",
   "language": "python",
   "name": "python3"
  },
  "language_info": {
   "codemirror_mode": {
    "name": "ipython",
    "version": 3
   },
   "file_extension": ".py",
   "mimetype": "text/x-python",
   "name": "python",
   "nbconvert_exporter": "python",
   "pygments_lexer": "ipython3",
   "version": "3.7.3"
  }
 },
 "nbformat": 4,
 "nbformat_minor": 4
}
