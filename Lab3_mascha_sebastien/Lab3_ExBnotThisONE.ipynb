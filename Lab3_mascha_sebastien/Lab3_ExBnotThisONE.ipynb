{
 "cells": [
  {
   "cell_type": "markdown",
   "metadata": {},
   "source": [
    "# Data Analysis - Lab 3\n",
    "### M. Sébastien MASCHA & M. Sauvage Pierre\n",
    "### ISEP Paris – September 24th, 2019\n",
    "<br/>\n",
    "<br/>\n",
    "\n",
    "___\n",
    "# Import of libraries\n",
    "\n",
    "This document has been done using python on Jupyter Notebook with the librairies:\n",
    " \n",
    "- maths for sqrt, pi, exp\n",
    "- Numpy to manipulate arrays\n",
    "- pandas to import csv\n",
    "- matplotlib to plot graphics\n",
    "- seaborn to make your charts prettier (built on top of Matplotlib)\n",
    "- sklearn : tools for data mining and data analysis\n",
    "- mlxtend : tools for ploting PCA"
   ]
  },
  {
   "cell_type": "code",
   "execution_count": 4,
   "metadata": {},
   "outputs": [],
   "source": [
    "# coding: utf-8\n",
    "\n",
    "import data\n",
    "\n",
    "from math import sqrt,pi,exp\n",
    "import numpy as np\n",
    "import matplotlib.pyplot as plt\n",
    "import pandas as pd\n",
    "import seaborn as sns; sns.set()\n",
    "\n",
    "import sklearn\n",
    "# Normalize data\n",
    "from sklearn.preprocessing import StandardScaler\n",
    "# Dimension reduction\n",
    "from sklearn.decomposition import PCA\n",
    "from sklearn.discriminant_analysis import LinearDiscriminantAnalysis as LDA\n",
    "from sklearn.discriminant_analysis import QuadraticDiscriminantAnalysis as QDA\n",
    "# Useful \n",
    "from sklearn.linear_model import LogisticRegression"
   ]
  },
  {
   "cell_type": "markdown",
   "metadata": {},
   "source": [
    "# Exercice B - MDS, LLE and Isomap\n",
    "We are now going to study the \"golub\" data. These data contains the level of expression of 7129 genes based on 72 sample. Each sample is linked to a variant of Leukemia: AML(25) and ALL(47). Our goal is to visualize the 72 samples on a 2D plan.\n",
    "#### Question 1 - Open golub_data.csv as a matrice"
   ]
  },
  {
   "cell_type": "markdown",
   "metadata": {},
   "source": [
    "We use the comma separator because we saw in the text editor that the data was separated\n",
    "by semicolon."
   ]
  },
  {
   "cell_type": "code",
   "execution_count": 9,
   "metadata": {},
   "outputs": [
    {
     "name": "stdout",
     "output_type": "stream",
     "text": [
      "(7129, 72)\n"
     ]
    }
   ],
   "source": [
    "df= pd.read_csv('data/golub_data.csv', sep=\",\")\n",
    "print(df.shape)"
   ]
  },
  {
   "cell_type": "markdown",
   "metadata": {},
   "source": [
    "#### Question 5 - Compute the confidence intervals for the correlation coefficients (we will suppose that the attributes are following a normal distribution). Comment your results."
   ]
  },
  {
   "cell_type": "code",
   "execution_count": 42,
   "metadata": {},
   "outputs": [
    {
     "name": "stdout",
     "output_type": "stream",
     "text": [
      "[nan, nan]\n",
      "[0.13426981777053296, 0.41938373810452045]\n",
      "[0.06035688449301633, 0.3559920722670827]\n",
      "[0.1550204052207662, 0.4366943233822553]\n",
      "[0.1751305926080555, 0.4532739744948389]\n",
      "[0.16815644198526442, 0.4475459190283694]\n",
      "[0.0887412499451348, 0.38066213211057265]\n",
      "[0.10693257323975644, 0.39625746160692854]\n",
      "[-0.2588919772266451, 0.046903597018188345]\n",
      "[0.13426981777053296, 0.41938373810452045]\n",
      "[nan, nan]\n",
      "[0.6389565094017534, 0.7888073290213987]\n",
      "[0.9197188757950654, 0.9561567588569714]\n",
      "[0.8466097523006582, 0.9147568587731572]\n",
      "[0.9295649109392146, 0.9616232266107839]\n",
      "[0.8370486424958964, 0.9092347028400082]\n",
      "[0.6746510962043446, 0.8113917905064472]\n",
      "[0.032076467069970915, 0.33099559346489804]\n",
      "[0.06035688449301633, 0.3559920722670827]\n",
      "[0.6389565094017534, 0.7888073290213987]\n",
      "[0.9999999999999997, 1.0]\n",
      "[0.5544844868835288, 0.7336987196236355]\n",
      "[0.46038938471837654, 0.6694047245794875]\n",
      "[0.6044785482041218, 0.7666015712819692]\n",
      "[0.16368253010302636, 0.4438592656734183]\n",
      "[0.6481288671477571, 0.7946496959872305]\n",
      "[-0.05428316847468697, 0.251976201196911]\n",
      "[0.1550204052207662, 0.4366943233822553]\n",
      "[0.9197188757950654, 0.9561567588569714]\n",
      "[0.5544844868835288, 0.7336987196236355]\n",
      "[nan, nan]\n",
      "[0.803253580516477, 0.8895101339149617]\n",
      "[0.8645856497614237, 0.9250706088764866]\n",
      "[0.7919260183299475, 0.8828260454883066]\n",
      "[0.6262996345115308, 0.7807007766188789]\n",
      "[-0.007128239087711172, 0.295635309103244]\n",
      "[0.1751305926080555, 0.4532739744948389]\n",
      "[0.8466097523006582, 0.9147568587731572]\n",
      "[0.46038938471837654, 0.6694047245794875]\n",
      "[0.803253580516477, 0.8895101339149617]\n",
      "[0.9999999999999997, 1.0]\n",
      "[0.8070690609884815, 0.8917532646526295]\n",
      "[0.9042130394379454, 0.9474962085422698]\n",
      "[0.5398162645454087, 0.7238828955562611]\n",
      "[0.10319361188190135, 0.3930656419398545]\n",
      "[0.16815644198526442, 0.4475459190283694]\n",
      "[0.9295649109392146, 0.9616232266107839]\n",
      "[0.6044785482041218, 0.7666015712819692]\n",
      "[0.8645856497614237, 0.9250706088764866]\n",
      "[0.8070690609884815, 0.8917532646526295]\n",
      "[nan, nan]\n",
      "[0.8401925286624051, 0.9110533070920882]\n",
      "[0.603799320187804, 0.7661601802147505]\n",
      "[0.050693103402778904, 0.34749777343555105]\n",
      "[0.0887412499451348, 0.38066213211057265]\n",
      "[0.8370486424958964, 0.9092347028400082]\n",
      "[0.16368253010302636, 0.4438592656734183]\n",
      "[0.7919260183299475, 0.8828260454883066]\n",
      "[0.9042130394379454, 0.9474962085422698]\n",
      "[0.8401925286624051, 0.9110533070920882]\n",
      "[nan, nan]\n",
      "[0.392437222651811, 0.6209416248865975]\n",
      "[0.11238497276625163, 0.4008994821680386]\n",
      "[0.10693257323975644, 0.39625746160692854]\n",
      "[0.6746510962043446, 0.8113917905064472]\n",
      "[0.6481288671477571, 0.7946496959872305]\n",
      "[0.6262996345115308, 0.7807007766188789]\n",
      "[0.5398162645454087, 0.7238828955562611]\n",
      "[0.603799320187804, 0.7661601802147505]\n",
      "[0.392437222651811, 0.6209416248865975]\n",
      "[nan, nan]\n",
      "[0.027473695825639806, 0.32688721336198195]\n",
      "[-0.2588919772266451, 0.046903597018188345]\n",
      "[0.032076467069970915, 0.33099559346489804]\n",
      "[-0.05428316847468697, 0.251976201196911]\n",
      "[-0.007128239087711172, 0.295635309103244]\n",
      "[0.10319361188190135, 0.3930656419398545]\n",
      "[0.050693103402778904, 0.34749777343555105]\n",
      "[0.11238497276625163, 0.4008994821680386]\n",
      "[0.027473695825639806, 0.32688721336198195]\n",
      "[1.0, 1.0]\n"
     ]
    },
    {
     "name": "stderr",
     "output_type": "stream",
     "text": [
      "//anaconda3/lib/python3.7/site-packages/ipykernel_launcher.py:3: RuntimeWarning: divide by zero encountered in log\n",
      "  This is separate from the ipykernel package so we can avoid doing imports until\n"
     ]
    }
   ],
   "source": [
    "def IC95(a,b):\n",
    "    r = pearsonr(a,b)[0]\n",
    "    Z = np.log(abs(1 + r)) - np.log(abs(1 - r))/2\n",
    "    sz = sqrt(1/(len(a) - 3))\n",
    "    Zinf = Z - 1.96*sz\n",
    "    Zsup = Z + 1.96*sz\n",
    "    ic_interval = [(exp(2*Zinf) - 1)/(exp(2*Zinf) + 1), (exp(2*Zsup) - 1)/(exp(2*Zsup) + 1)]\n",
    "    return ic_interval  \n",
    "\n",
    "# Calcul des 16 intervalles de confiance à 95% :\n",
    "for i in range(dataframe.shape[1]):\n",
    "    for j in range(dataframe.shape[1]):\n",
    "        print(IC95(dataframe.values[:,i],dataframe.values[:,j]))"
   ]
  },
  {
   "cell_type": "markdown",
   "metadata": {},
   "source": [
    "It appears that there is a strong link between the height and the length of the femur as well as with the span of the arm which have a coefficient of determination of around 0.8.\n",
    "\n",
    "There is also a 0.64 and 0.62 coefficient of determination between the height and the size of the feet as well as with the length of the hand, making them less strongly linked.\n",
    "\n",
    "We observe about a 0.55 determination between the length of the femur and the size of the feet as well as with the length of the hand. It shows are strong they're linked.\n",
    "\n",
    "Furthermore, penis' size is definitely not linked with attributes provided."
   ]
  },
  {
   "cell_type": "code",
   "execution_count": null,
   "metadata": {},
   "outputs": [],
   "source": []
  }
 ],
 "metadata": {
  "kernelspec": {
   "display_name": "Python 3",
   "language": "python",
   "name": "python3"
  },
  "language_info": {
   "codemirror_mode": {
    "name": "ipython",
    "version": 3
   },
   "file_extension": ".py",
   "mimetype": "text/x-python",
   "name": "python",
   "nbconvert_exporter": "python",
   "pygments_lexer": "ipython3",
   "version": "3.7.4"
  }
 },
 "nbformat": 4,
 "nbformat_minor": 4
}
