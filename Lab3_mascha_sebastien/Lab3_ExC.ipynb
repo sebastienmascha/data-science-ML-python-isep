{
 "cells": [
  {
   "cell_type": "markdown",
   "metadata": {},
   "source": [
    "# Data Analysis - Lab 3\n",
    "### M. Sébastien MASCHA & M. Sauvage Pierre\n",
    "### ISEP Paris – September 24th, 2019\n",
    "<br/>\n",
    "<br/>\n",
    "\n",
    "___\n",
    "# Import of libraries\n",
    "\n",
    "This document has been done using python on Jupyter Notebook with the librairies:\n",
    " \n",
    "- Numpy to manipulate arrays\n",
    "- matplotlib to plot graphics\n",
    "- pandas to import csv\n",
    "- scipy for mathematicals usage\n",
    "- maths for sqrt, pi, exp"
   ]
  },
  {
   "cell_type": "code",
   "execution_count": 2,
   "metadata": {},
   "outputs": [
    {
     "name": "stderr",
     "output_type": "stream",
     "text": [
      "backend module://ipykernel.pylab.backend_inline version unknown\n"
     ]
    }
   ],
   "source": [
    "# coding: utf-8\n",
    "\n",
    "import data\n",
    "import numpy as np\n",
    "import matplotlib.pyplot as plt\n",
    "import pandas as pd\n",
    "import seaborn as sns; sns.set()\n",
    "from math import sqrt,pi,exp\n",
    "from scipy.stats.stats import pearsonr\n",
    "from sompy import SOMFactory"
   ]
  },
  {
   "cell_type": "code",
   "execution_count": 7,
   "metadata": {},
   "outputs": [
    {
     "name": "stderr",
     "output_type": "stream",
     "text": [
      " Training...\n",
      " pca_linear_initialization took: 0.144000 seconds\n",
      " Rough training...\n",
      " radius_ini: 2.000000 , radius_final: 1.000000, trainlen: 20\n",
      "\n",
      " epoch: 1 ---> elapsed time:  0.124000, quantization error: 0.512525\n",
      "\n",
      " epoch: 2 ---> elapsed time:  0.107000, quantization error: 0.509178\n",
      "\n",
      " epoch: 3 ---> elapsed time:  0.117000, quantization error: 0.486280\n",
      "\n",
      " epoch: 4 ---> elapsed time:  0.109000, quantization error: 0.476917\n",
      "\n",
      " epoch: 5 ---> elapsed time:  0.106000, quantization error: 0.465116\n",
      "\n",
      " epoch: 6 ---> elapsed time:  0.112000, quantization error: 0.456609\n",
      "\n",
      " epoch: 7 ---> elapsed time:  0.115000, quantization error: 0.448210\n",
      "\n",
      " epoch: 8 ---> elapsed time:  0.131000, quantization error: 0.440615\n",
      "\n",
      " epoch: 9 ---> elapsed time:  0.109000, quantization error: 0.434579\n",
      "\n",
      " epoch: 10 ---> elapsed time:  0.103000, quantization error: 0.427909\n",
      "\n",
      " epoch: 11 ---> elapsed time:  0.131000, quantization error: 0.421215\n",
      "\n",
      " epoch: 12 ---> elapsed time:  0.116000, quantization error: 0.415276\n",
      "\n",
      " epoch: 13 ---> elapsed time:  0.108000, quantization error: 0.408451\n",
      "\n",
      " epoch: 14 ---> elapsed time:  0.108000, quantization error: 0.400969\n",
      "\n",
      " epoch: 15 ---> elapsed time:  0.104000, quantization error: 0.391633\n",
      "\n",
      " epoch: 16 ---> elapsed time:  0.108000, quantization error: 0.382818\n",
      "\n",
      " epoch: 17 ---> elapsed time:  0.103000, quantization error: 0.374008\n",
      "\n",
      " epoch: 18 ---> elapsed time:  0.109000, quantization error: 0.363409\n",
      "\n",
      " epoch: 19 ---> elapsed time:  0.115000, quantization error: 0.350211\n",
      "\n",
      " epoch: 20 ---> elapsed time:  0.113000, quantization error: 0.334789\n",
      "\n",
      " Finetune training...\n",
      " radius_ini: 1.000000 , radius_final: 1.000000, trainlen: 27\n",
      "\n",
      " epoch: 1 ---> elapsed time:  0.104000, quantization error: 0.323095\n",
      "\n",
      " epoch: 2 ---> elapsed time:  0.110000, quantization error: 0.320744\n",
      "\n",
      " epoch: 3 ---> elapsed time:  0.107000, quantization error: 0.319827\n",
      "\n",
      " epoch: 4 ---> elapsed time:  0.105000, quantization error: 0.318809\n",
      "\n",
      " epoch: 5 ---> elapsed time:  0.105000, quantization error: 0.318034\n",
      "\n",
      " epoch: 6 ---> elapsed time:  0.108000, quantization error: 0.318034\n",
      "\n",
      " epoch: 7 ---> elapsed time:  0.119000, quantization error: 0.318034\n",
      "\n",
      " epoch: 8 ---> elapsed time:  0.108000, quantization error: 0.318034\n",
      "\n",
      " epoch: 9 ---> elapsed time:  0.104000, quantization error: 0.318034\n",
      "\n",
      " epoch: 10 ---> elapsed time:  0.107000, quantization error: 0.318034\n",
      "\n",
      " epoch: 11 ---> elapsed time:  0.107000, quantization error: 0.318034\n",
      "\n",
      " epoch: 12 ---> elapsed time:  0.106000, quantization error: 0.318034\n",
      "\n",
      " epoch: 13 ---> elapsed time:  0.108000, quantization error: 0.318034\n",
      "\n",
      " epoch: 14 ---> elapsed time:  0.104000, quantization error: 0.318034\n",
      "\n",
      " epoch: 15 ---> elapsed time:  0.107000, quantization error: 0.318034\n",
      "\n",
      " epoch: 16 ---> elapsed time:  0.107000, quantization error: 0.318034\n",
      "\n",
      " epoch: 17 ---> elapsed time:  0.107000, quantization error: 0.318034\n",
      "\n",
      " epoch: 18 ---> elapsed time:  0.107000, quantization error: 0.318034\n",
      "\n",
      " epoch: 19 ---> elapsed time:  0.107000, quantization error: 0.318034\n",
      "\n",
      " epoch: 20 ---> elapsed time:  0.110000, quantization error: 0.318034\n",
      "\n",
      " epoch: 21 ---> elapsed time:  0.110000, quantization error: 0.318034\n",
      "\n",
      " epoch: 22 ---> elapsed time:  0.105000, quantization error: 0.318034\n",
      "\n",
      " epoch: 23 ---> elapsed time:  0.107000, quantization error: 0.318034\n",
      "\n",
      " epoch: 24 ---> elapsed time:  0.105000, quantization error: 0.318034\n",
      "\n",
      " epoch: 25 ---> elapsed time:  0.103000, quantization error: 0.318034\n",
      "\n",
      " epoch: 26 ---> elapsed time:  0.105000, quantization error: 0.318034\n",
      "\n",
      " epoch: 27 ---> elapsed time:  0.106000, quantization error: 0.318034\n",
      "\n",
      " Final quantization error: 0.318034\n",
      " train took: 5.380000 seconds\n"
     ]
    }
   ],
   "source": [
    "iris_df = pd.read_csv(\"data/iris.csv\", sep=';')\n",
    "\n",
    "iris_df.head()\n",
    "iris_df = iris_df.drop(iris_df.columns[[4]], axis=1)\n",
    "iris_df.head()\n",
    "\n",
    "mapsize = [10,10]\n",
    "som = SOMFactory.build(iris_df, mapsize, mask=None, mapshape='square', lattice='rect', normalization='var', initialization='pca', neighborhood='gaussian', training='batch', name='sompy')  # this will use the default parameters, but i can change the initialization and neighborhood methods\n",
    "som2 = som.train(n_job=1, verbose='info')"
   ]
  },
  {
   "cell_type": "code",
   "execution_count": 9,
   "metadata": {},
   "outputs": [
    {
     "ename": "AttributeError",
     "evalue": "'NoneType' object has no attribute '_normalizer'",
     "output_type": "error",
     "traceback": [
      "\u001b[0;31m---------------------------------------------------------------------------\u001b[0m",
      "\u001b[0;31mAttributeError\u001b[0m                            Traceback (most recent call last)",
      "\u001b[0;32m<ipython-input-9-b3ac7e725a2b>\u001b[0m in \u001b[0;36m<module>\u001b[0;34m()\u001b[0m\n\u001b[1;32m      1\u001b[0m \u001b[0;32mfrom\u001b[0m \u001b[0msompy\u001b[0m\u001b[0;34m.\u001b[0m\u001b[0mvisualization\u001b[0m\u001b[0;34m.\u001b[0m\u001b[0mmapview\u001b[0m \u001b[0;32mimport\u001b[0m \u001b[0mView2D\u001b[0m\u001b[0;34m\u001b[0m\u001b[0;34m\u001b[0m\u001b[0m\n\u001b[1;32m      2\u001b[0m \u001b[0mview2D\u001b[0m \u001b[0;34m=\u001b[0m \u001b[0mView2D\u001b[0m\u001b[0;34m(\u001b[0m\u001b[0;36m10\u001b[0m\u001b[0;34m,\u001b[0m \u001b[0;36m10\u001b[0m\u001b[0;34m,\u001b[0m \u001b[0;34m\" \"\u001b[0m\u001b[0;34m,\u001b[0m \u001b[0mtext_size\u001b[0m\u001b[0;34m=\u001b[0m\u001b[0;36m10\u001b[0m\u001b[0;34m)\u001b[0m\u001b[0;34m\u001b[0m\u001b[0;34m\u001b[0m\u001b[0m\n\u001b[0;32m----> 3\u001b[0;31m \u001b[0mview2D\u001b[0m\u001b[0;34m.\u001b[0m\u001b[0mshow\u001b[0m\u001b[0;34m(\u001b[0m\u001b[0msom2\u001b[0m\u001b[0;34m,\u001b[0m \u001b[0mcol_sz\u001b[0m\u001b[0;34m=\u001b[0m\u001b[0;36m7\u001b[0m\u001b[0;34m,\u001b[0m \u001b[0mwhich_dim\u001b[0m\u001b[0;34m=\u001b[0m\u001b[0;34m\"all\"\u001b[0m\u001b[0;34m,\u001b[0m \u001b[0mdenormalize\u001b[0m\u001b[0;34m=\u001b[0m\u001b[0;32mFalse\u001b[0m\u001b[0;34m)\u001b[0m\u001b[0;34m\u001b[0m\u001b[0;34m\u001b[0m\u001b[0m\n\u001b[0m\u001b[1;32m      4\u001b[0m \u001b[0mplt\u001b[0m\u001b[0;34m.\u001b[0m\u001b[0mshow\u001b[0m\u001b[0;34m(\u001b[0m\u001b[0;34m)\u001b[0m\u001b[0;34m\u001b[0m\u001b[0;34m\u001b[0m\u001b[0m\n",
      "\u001b[0;32m~/anaconda/lib/python3.6/site-packages/sompy/visualization/mapview.py\u001b[0m in \u001b[0;36mshow\u001b[0;34m(self, som, what, which_dim, cmap, col_sz, denormalize)\u001b[0m\n\u001b[1;32m     67\u001b[0m              col_sz=None, denormalize=False):\n\u001b[1;32m     68\u001b[0m         (self.width, self.height, indtoshow, no_row_in_plot, no_col_in_plot,\n\u001b[0;32m---> 69\u001b[0;31m          axis_num) = self._calculate_figure_params(som, which_dim, col_sz)\n\u001b[0m\u001b[1;32m     70\u001b[0m         \u001b[0mself\u001b[0m\u001b[0;34m.\u001b[0m\u001b[0mprepare\u001b[0m\u001b[0;34m(\u001b[0m\u001b[0;34m)\u001b[0m\u001b[0;34m\u001b[0m\u001b[0;34m\u001b[0m\u001b[0m\n\u001b[1;32m     71\u001b[0m \u001b[0;34m\u001b[0m\u001b[0m\n",
      "\u001b[0;32m~/anaconda/lib/python3.6/site-packages/sompy/visualization/mapview.py\u001b[0m in \u001b[0;36m_calculate_figure_params\u001b[0;34m(self, som, which_dim, col_sz)\u001b[0m\n\u001b[1;32m     13\u001b[0m \u001b[0;34m\u001b[0m\u001b[0m\n\u001b[1;32m     14\u001b[0m         \u001b[0;31m# add this to avoid error when normalization is not used\u001b[0m\u001b[0;34m\u001b[0m\u001b[0;34m\u001b[0m\u001b[0;34m\u001b[0m\u001b[0m\n\u001b[0;32m---> 15\u001b[0;31m         \u001b[0;32mif\u001b[0m \u001b[0msom\u001b[0m\u001b[0;34m.\u001b[0m\u001b[0m_normalizer\u001b[0m\u001b[0;34m:\u001b[0m\u001b[0;34m\u001b[0m\u001b[0;34m\u001b[0m\u001b[0m\n\u001b[0m\u001b[1;32m     16\u001b[0m             \u001b[0mcodebook\u001b[0m \u001b[0;34m=\u001b[0m \u001b[0msom\u001b[0m\u001b[0;34m.\u001b[0m\u001b[0m_normalizer\u001b[0m\u001b[0;34m.\u001b[0m\u001b[0mdenormalize_by\u001b[0m\u001b[0;34m(\u001b[0m\u001b[0msom\u001b[0m\u001b[0;34m.\u001b[0m\u001b[0mdata_raw\u001b[0m\u001b[0;34m,\u001b[0m \u001b[0msom\u001b[0m\u001b[0;34m.\u001b[0m\u001b[0mcodebook\u001b[0m\u001b[0;34m.\u001b[0m\u001b[0mmatrix\u001b[0m\u001b[0;34m)\u001b[0m\u001b[0;34m\u001b[0m\u001b[0;34m\u001b[0m\u001b[0m\n\u001b[1;32m     17\u001b[0m         \u001b[0;32melse\u001b[0m\u001b[0;34m:\u001b[0m\u001b[0;34m\u001b[0m\u001b[0;34m\u001b[0m\u001b[0m\n",
      "\u001b[0;31mAttributeError\u001b[0m: 'NoneType' object has no attribute '_normalizer'"
     ]
    }
   ],
   "source": [
    "from sompy.visualization.mapview import View2D\n",
    "view2D = View2D(10, 10, \" \", text_size=10)\n",
    "view2D.show(som2, col_sz=7, which_dim=\"all\", denormalize=False)\n",
    "plt.show()"
   ]
  },
  {
   "cell_type": "code",
   "execution_count": null,
   "metadata": {},
   "outputs": [],
   "source": []
  }
 ],
 "metadata": {
  "kernelspec": {
   "display_name": "Python 3",
   "language": "python",
   "name": "python3"
  },
  "language_info": {
   "codemirror_mode": {
    "name": "ipython",
    "version": 3
   },
   "file_extension": ".py",
   "mimetype": "text/x-python",
   "name": "python",
   "nbconvert_exporter": "python",
   "pygments_lexer": "ipython3",
   "version": "3.6.8"
  }
 },
 "nbformat": 4,
 "nbformat_minor": 4
}
